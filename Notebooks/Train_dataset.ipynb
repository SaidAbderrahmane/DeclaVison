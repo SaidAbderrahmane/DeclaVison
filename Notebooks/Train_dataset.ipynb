{
  "cells": [
    {
      "cell_type": "markdown",
      "metadata": {
        "id": "h_GymOrkbsvO"
      },
      "source": [
        "Install dependencies"
      ]
    },
    {
      "cell_type": "code",
      "execution_count": 1,
      "metadata": {
        "colab": {
          "base_uri": "https://localhost:8080/"
        },
        "collapsed": true,
        "id": "LWps1Zt8bkPb",
        "outputId": "9fb12e4e-7772-45f3-c40d-9459f8712d7a"
      },
      "outputs": [
        {
          "name": "stdout",
          "output_type": "stream",
          "text": [
            "Collecting roboflow\n",
            "  Downloading roboflow-1.1.51-py3-none-any.whl.metadata (9.7 kB)\n",
            "Requirement already satisfied: certifi in /usr/local/lib/python3.11/dist-packages (from roboflow) (2024.12.14)\n",
            "Collecting idna==3.7 (from roboflow)\n",
            "  Downloading idna-3.7-py3-none-any.whl.metadata (9.9 kB)\n",
            "Requirement already satisfied: cycler in /usr/local/lib/python3.11/dist-packages (from roboflow) (0.12.1)\n",
            "Requirement already satisfied: kiwisolver>=1.3.1 in /usr/local/lib/python3.11/dist-packages (from roboflow) (1.4.8)\n",
            "Requirement already satisfied: matplotlib in /usr/local/lib/python3.11/dist-packages (from roboflow) (3.10.0)\n",
            "Requirement already satisfied: numpy>=1.18.5 in /usr/local/lib/python3.11/dist-packages (from roboflow) (1.26.4)\n",
            "Requirement already satisfied: opencv-python-headless==4.10.0.84 in /usr/local/lib/python3.11/dist-packages (from roboflow) (4.10.0.84)\n",
            "Requirement already satisfied: Pillow>=7.1.2 in /usr/local/lib/python3.11/dist-packages (from roboflow) (11.1.0)\n",
            "Requirement already satisfied: python-dateutil in /usr/local/lib/python3.11/dist-packages (from roboflow) (2.8.2)\n",
            "Collecting python-dotenv (from roboflow)\n",
            "  Downloading python_dotenv-1.0.1-py3-none-any.whl.metadata (23 kB)\n",
            "Requirement already satisfied: requests in /usr/local/lib/python3.11/dist-packages (from roboflow) (2.32.3)\n",
            "Requirement already satisfied: six in /usr/local/lib/python3.11/dist-packages (from roboflow) (1.17.0)\n",
            "Requirement already satisfied: urllib3>=1.26.6 in /usr/local/lib/python3.11/dist-packages (from roboflow) (2.3.0)\n",
            "Requirement already satisfied: tqdm>=4.41.0 in /usr/local/lib/python3.11/dist-packages (from roboflow) (4.67.1)\n",
            "Requirement already satisfied: PyYAML>=5.3.1 in /usr/local/lib/python3.11/dist-packages (from roboflow) (6.0.2)\n",
            "Requirement already satisfied: requests-toolbelt in /usr/local/lib/python3.11/dist-packages (from roboflow) (1.0.0)\n",
            "Collecting filetype (from roboflow)\n",
            "  Downloading filetype-1.2.0-py2.py3-none-any.whl.metadata (6.5 kB)\n",
            "Requirement already satisfied: contourpy>=1.0.1 in /usr/local/lib/python3.11/dist-packages (from matplotlib->roboflow) (1.3.1)\n",
            "Requirement already satisfied: fonttools>=4.22.0 in /usr/local/lib/python3.11/dist-packages (from matplotlib->roboflow) (4.55.3)\n",
            "Requirement already satisfied: packaging>=20.0 in /usr/local/lib/python3.11/dist-packages (from matplotlib->roboflow) (24.2)\n",
            "Requirement already satisfied: pyparsing>=2.3.1 in /usr/local/lib/python3.11/dist-packages (from matplotlib->roboflow) (3.2.1)\n",
            "Requirement already satisfied: charset-normalizer<4,>=2 in /usr/local/lib/python3.11/dist-packages (from requests->roboflow) (3.4.1)\n",
            "Downloading roboflow-1.1.51-py3-none-any.whl (81 kB)\n",
            "\u001b[2K   \u001b[90m━━━━━━━━━━━━━━━━━━━━━━━━━━━━━━━━━━━━━━━━\u001b[0m \u001b[32m81.5/81.5 kB\u001b[0m \u001b[31m6.1 MB/s\u001b[0m eta \u001b[36m0:00:00\u001b[0m\n",
            "\u001b[?25hDownloading idna-3.7-py3-none-any.whl (66 kB)\n",
            "\u001b[2K   \u001b[90m━━━━━━━━━━━━━━━━━━━━━━━━━━━━━━━━━━━━━━━━\u001b[0m \u001b[32m66.8/66.8 kB\u001b[0m \u001b[31m6.6 MB/s\u001b[0m eta \u001b[36m0:00:00\u001b[0m\n",
            "\u001b[?25hDownloading filetype-1.2.0-py2.py3-none-any.whl (19 kB)\n",
            "Downloading python_dotenv-1.0.1-py3-none-any.whl (19 kB)\n",
            "Installing collected packages: filetype, python-dotenv, idna, roboflow\n",
            "  Attempting uninstall: idna\n",
            "    Found existing installation: idna 3.10\n",
            "    Uninstalling idna-3.10:\n",
            "      Successfully uninstalled idna-3.10\n",
            "Successfully installed filetype-1.2.0 idna-3.7 python-dotenv-1.0.1 roboflow-1.1.51\n",
            "Collecting ultralytics\n",
            "  Downloading ultralytics-8.3.65-py3-none-any.whl.metadata (35 kB)\n",
            "Requirement already satisfied: numpy>=1.23.0 in /usr/local/lib/python3.11/dist-packages (from ultralytics) (1.26.4)\n",
            "Requirement already satisfied: matplotlib>=3.3.0 in /usr/local/lib/python3.11/dist-packages (from ultralytics) (3.10.0)\n",
            "Requirement already satisfied: opencv-python>=4.6.0 in /usr/local/lib/python3.11/dist-packages (from ultralytics) (4.10.0.84)\n",
            "Requirement already satisfied: pillow>=7.1.2 in /usr/local/lib/python3.11/dist-packages (from ultralytics) (11.1.0)\n",
            "Requirement already satisfied: pyyaml>=5.3.1 in /usr/local/lib/python3.11/dist-packages (from ultralytics) (6.0.2)\n",
            "Requirement already satisfied: requests>=2.23.0 in /usr/local/lib/python3.11/dist-packages (from ultralytics) (2.32.3)\n",
            "Requirement already satisfied: scipy>=1.4.1 in /usr/local/lib/python3.11/dist-packages (from ultralytics) (1.13.1)\n",
            "Requirement already satisfied: torch>=1.8.0 in /usr/local/lib/python3.11/dist-packages (from ultralytics) (2.5.1+cu121)\n",
            "Requirement already satisfied: torchvision>=0.9.0 in /usr/local/lib/python3.11/dist-packages (from ultralytics) (0.20.1+cu121)\n",
            "Requirement already satisfied: tqdm>=4.64.0 in /usr/local/lib/python3.11/dist-packages (from ultralytics) (4.67.1)\n",
            "Requirement already satisfied: psutil in /usr/local/lib/python3.11/dist-packages (from ultralytics) (5.9.5)\n",
            "Requirement already satisfied: py-cpuinfo in /usr/local/lib/python3.11/dist-packages (from ultralytics) (9.0.0)\n",
            "Requirement already satisfied: pandas>=1.1.4 in /usr/local/lib/python3.11/dist-packages (from ultralytics) (2.2.2)\n",
            "Requirement already satisfied: seaborn>=0.11.0 in /usr/local/lib/python3.11/dist-packages (from ultralytics) (0.13.2)\n",
            "Collecting ultralytics-thop>=2.0.0 (from ultralytics)\n",
            "  Downloading ultralytics_thop-2.0.14-py3-none-any.whl.metadata (9.4 kB)\n",
            "Requirement already satisfied: contourpy>=1.0.1 in /usr/local/lib/python3.11/dist-packages (from matplotlib>=3.3.0->ultralytics) (1.3.1)\n",
            "Requirement already satisfied: cycler>=0.10 in /usr/local/lib/python3.11/dist-packages (from matplotlib>=3.3.0->ultralytics) (0.12.1)\n",
            "Requirement already satisfied: fonttools>=4.22.0 in /usr/local/lib/python3.11/dist-packages (from matplotlib>=3.3.0->ultralytics) (4.55.3)\n",
            "Requirement already satisfied: kiwisolver>=1.3.1 in /usr/local/lib/python3.11/dist-packages (from matplotlib>=3.3.0->ultralytics) (1.4.8)\n",
            "Requirement already satisfied: packaging>=20.0 in /usr/local/lib/python3.11/dist-packages (from matplotlib>=3.3.0->ultralytics) (24.2)\n",
            "Requirement already satisfied: pyparsing>=2.3.1 in /usr/local/lib/python3.11/dist-packages (from matplotlib>=3.3.0->ultralytics) (3.2.1)\n",
            "Requirement already satisfied: python-dateutil>=2.7 in /usr/local/lib/python3.11/dist-packages (from matplotlib>=3.3.0->ultralytics) (2.8.2)\n",
            "Requirement already satisfied: pytz>=2020.1 in /usr/local/lib/python3.11/dist-packages (from pandas>=1.1.4->ultralytics) (2024.2)\n",
            "Requirement already satisfied: tzdata>=2022.7 in /usr/local/lib/python3.11/dist-packages (from pandas>=1.1.4->ultralytics) (2024.2)\n",
            "Requirement already satisfied: charset-normalizer<4,>=2 in /usr/local/lib/python3.11/dist-packages (from requests>=2.23.0->ultralytics) (3.4.1)\n",
            "Requirement already satisfied: idna<4,>=2.5 in /usr/local/lib/python3.11/dist-packages (from requests>=2.23.0->ultralytics) (3.7)\n",
            "Requirement already satisfied: urllib3<3,>=1.21.1 in /usr/local/lib/python3.11/dist-packages (from requests>=2.23.0->ultralytics) (2.3.0)\n",
            "Requirement already satisfied: certifi>=2017.4.17 in /usr/local/lib/python3.11/dist-packages (from requests>=2.23.0->ultralytics) (2024.12.14)\n",
            "Requirement already satisfied: filelock in /usr/local/lib/python3.11/dist-packages (from torch>=1.8.0->ultralytics) (3.16.1)\n",
            "Requirement already satisfied: typing-extensions>=4.8.0 in /usr/local/lib/python3.11/dist-packages (from torch>=1.8.0->ultralytics) (4.12.2)\n",
            "Requirement already satisfied: networkx in /usr/local/lib/python3.11/dist-packages (from torch>=1.8.0->ultralytics) (3.4.2)\n",
            "Requirement already satisfied: jinja2 in /usr/local/lib/python3.11/dist-packages (from torch>=1.8.0->ultralytics) (3.1.5)\n",
            "Requirement already satisfied: fsspec in /usr/local/lib/python3.11/dist-packages (from torch>=1.8.0->ultralytics) (2024.10.0)\n",
            "Requirement already satisfied: nvidia-cuda-nvrtc-cu12==12.1.105 in /usr/local/lib/python3.11/dist-packages (from torch>=1.8.0->ultralytics) (12.1.105)\n",
            "Requirement already satisfied: nvidia-cuda-runtime-cu12==12.1.105 in /usr/local/lib/python3.11/dist-packages (from torch>=1.8.0->ultralytics) (12.1.105)\n",
            "Requirement already satisfied: nvidia-cuda-cupti-cu12==12.1.105 in /usr/local/lib/python3.11/dist-packages (from torch>=1.8.0->ultralytics) (12.1.105)\n",
            "Requirement already satisfied: nvidia-cudnn-cu12==9.1.0.70 in /usr/local/lib/python3.11/dist-packages (from torch>=1.8.0->ultralytics) (9.1.0.70)\n",
            "Requirement already satisfied: nvidia-cublas-cu12==12.1.3.1 in /usr/local/lib/python3.11/dist-packages (from torch>=1.8.0->ultralytics) (12.1.3.1)\n",
            "Requirement already satisfied: nvidia-cufft-cu12==11.0.2.54 in /usr/local/lib/python3.11/dist-packages (from torch>=1.8.0->ultralytics) (11.0.2.54)\n",
            "Requirement already satisfied: nvidia-curand-cu12==10.3.2.106 in /usr/local/lib/python3.11/dist-packages (from torch>=1.8.0->ultralytics) (10.3.2.106)\n",
            "Requirement already satisfied: nvidia-cusolver-cu12==11.4.5.107 in /usr/local/lib/python3.11/dist-packages (from torch>=1.8.0->ultralytics) (11.4.5.107)\n",
            "Requirement already satisfied: nvidia-cusparse-cu12==12.1.0.106 in /usr/local/lib/python3.11/dist-packages (from torch>=1.8.0->ultralytics) (12.1.0.106)\n",
            "Requirement already satisfied: nvidia-nccl-cu12==2.21.5 in /usr/local/lib/python3.11/dist-packages (from torch>=1.8.0->ultralytics) (2.21.5)\n",
            "Requirement already satisfied: nvidia-nvtx-cu12==12.1.105 in /usr/local/lib/python3.11/dist-packages (from torch>=1.8.0->ultralytics) (12.1.105)\n",
            "Requirement already satisfied: triton==3.1.0 in /usr/local/lib/python3.11/dist-packages (from torch>=1.8.0->ultralytics) (3.1.0)\n",
            "Requirement already satisfied: sympy==1.13.1 in /usr/local/lib/python3.11/dist-packages (from torch>=1.8.0->ultralytics) (1.13.1)\n",
            "Requirement already satisfied: nvidia-nvjitlink-cu12 in /usr/local/lib/python3.11/dist-packages (from nvidia-cusolver-cu12==11.4.5.107->torch>=1.8.0->ultralytics) (12.6.85)\n",
            "Requirement already satisfied: mpmath<1.4,>=1.1.0 in /usr/local/lib/python3.11/dist-packages (from sympy==1.13.1->torch>=1.8.0->ultralytics) (1.3.0)\n",
            "Requirement already satisfied: six>=1.5 in /usr/local/lib/python3.11/dist-packages (from python-dateutil>=2.7->matplotlib>=3.3.0->ultralytics) (1.17.0)\n",
            "Requirement already satisfied: MarkupSafe>=2.0 in /usr/local/lib/python3.11/dist-packages (from jinja2->torch>=1.8.0->ultralytics) (3.0.2)\n",
            "Downloading ultralytics-8.3.65-py3-none-any.whl (911 kB)\n",
            "\u001b[2K   \u001b[90m━━━━━━━━━━━━━━━━━━━━━━━━━━━━━━━━━━━━━━━━\u001b[0m \u001b[32m911.6/911.6 kB\u001b[0m \u001b[31m30.7 MB/s\u001b[0m eta \u001b[36m0:00:00\u001b[0m\n",
            "\u001b[?25hDownloading ultralytics_thop-2.0.14-py3-none-any.whl (26 kB)\n",
            "Installing collected packages: ultralytics-thop, ultralytics\n",
            "Successfully installed ultralytics-8.3.65 ultralytics-thop-2.0.14\n"
          ]
        }
      ],
      "source": [
        "!pip install roboflow\n",
        "!pip install ultralytics"
      ]
    },
    {
      "cell_type": "markdown",
      "metadata": {
        "id": "pjpT-VdSb0Ln"
      },
      "source": [
        "Configure dataset"
      ]
    },
    {
      "cell_type": "code",
      "execution_count": 6,
      "metadata": {
        "colab": {
          "base_uri": "https://localhost:8080/"
        },
        "collapsed": true,
        "id": "LW5cyrWVcMT1",
        "outputId": "c3787576-52c0-4c7c-c932-8582d4fec56e"
      },
      "outputs": [
        {
          "name": "stderr",
          "output_type": "stream",
          "text": [
            "Downloading Dataset Version Zip in /content/datasets/car-damage-detection to yolov8:: 100%|██████████| 4917/4917 [00:01<00:00, 2720.18it/s]"
          ]
        },
        {
          "name": "stdout",
          "output_type": "stream",
          "text": [
            "\n"
          ]
        },
        {
          "name": "stderr",
          "output_type": "stream",
          "text": [
            "\n",
            "Extracting Dataset Version Zip to /content/datasets/car-damage-detection in yolov8:: 100%|██████████| 236/236 [00:00<00:00, 7440.34it/s]\n"
          ]
        }
      ],
      "source": [
        "from google.colab import userdata\n",
        "from roboflow import Roboflow\n",
        "\n",
        "rf = Roboflow(api_key=userdata.get(\"ROBOFLOW_API_KEY\"))\n",
        "project = rf.project(userdata.get(\"ROBOFLOW_PROJECT_NAME\"))\n",
        "version = project.version(userdata.get(\"ROBOFLOW_PROJECT_VERSION\"))\n",
        "\n",
        "# Download the training dataset in a supported format\n",
        "# Download to /content/datasets/car-damage-detection-2p8pb\n",
        "train_dataset = version.download(\"yolov8\", location=\"/content/datasets/\" + version.name)"
      ]
    },
    {
      "cell_type": "markdown",
      "metadata": {
        "id": "YImelCPJeBRe"
      },
      "source": [
        "Train the model"
      ]
    },
    {
      "cell_type": "code",
      "execution_count": 9,
      "metadata": {
        "colab": {
          "base_uri": "https://localhost:8080/"
        },
        "collapsed": true,
        "id": "AkQBx61AtvIv",
        "outputId": "412f2490-c0e7-4ade-fa3b-3cf5d0135608"
      },
      "outputs": [
        {
          "name": "stdout",
          "output_type": "stream",
          "text": [
            "Ultralytics 8.3.65 🚀 Python-3.11.11 torch-2.5.1+cu121 CUDA:0 (Tesla T4, 15102MiB)\n",
            "\u001b[34m\u001b[1mengine/trainer: \u001b[0mtask=detect, mode=train, model=models/yolov8n.pt, data=/content/datasets/car-damage-detection/data.yaml, epochs=30, time=None, patience=100, batch=16, imgsz=640, save=True, save_period=-1, cache=False, device=None, workers=8, project=None, name=train2, exist_ok=False, pretrained=True, optimizer=auto, verbose=True, seed=0, deterministic=True, single_cls=False, rect=False, cos_lr=False, close_mosaic=10, resume=False, amp=True, fraction=1.0, profile=False, freeze=None, multi_scale=False, overlap_mask=True, mask_ratio=4, dropout=0.0, val=True, split=val, save_json=False, save_hybrid=False, conf=None, iou=0.7, max_det=300, half=False, dnn=False, plots=True, source=None, vid_stride=1, stream_buffer=False, visualize=False, augment=False, agnostic_nms=False, classes=None, retina_masks=False, embed=None, show=False, save_frames=False, save_txt=False, save_conf=False, save_crop=False, show_labels=True, show_conf=True, show_boxes=True, line_width=None, format=torchscript, keras=False, optimize=False, int8=False, dynamic=False, simplify=True, opset=None, workspace=None, nms=False, lr0=0.01, lrf=0.01, momentum=0.937, weight_decay=0.0005, warmup_epochs=3.0, warmup_momentum=0.8, warmup_bias_lr=0.1, box=7.5, cls=0.5, dfl=1.5, pose=12.0, kobj=1.0, nbs=64, hsv_h=0.015, hsv_s=0.7, hsv_v=0.4, degrees=0.0, translate=0.1, scale=0.5, shear=0.0, perspective=0.0, flipud=0.0, fliplr=0.5, bgr=0.0, mosaic=1.0, mixup=0.0, copy_paste=0.0, copy_paste_mode=flip, auto_augment=randaugment, erasing=0.4, crop_fraction=1.0, cfg=None, tracker=botsort.yaml, save_dir=runs/detect/train2\n",
            "Overriding model.yaml nc=80 with nc=1\n",
            "\n",
            "                   from  n    params  module                                       arguments                     \n",
            "  0                  -1  1       464  ultralytics.nn.modules.conv.Conv             [3, 16, 3, 2]                 \n",
            "  1                  -1  1      4672  ultralytics.nn.modules.conv.Conv             [16, 32, 3, 2]                \n",
            "  2                  -1  1      7360  ultralytics.nn.modules.block.C2f             [32, 32, 1, True]             \n",
            "  3                  -1  1     18560  ultralytics.nn.modules.conv.Conv             [32, 64, 3, 2]                \n",
            "  4                  -1  2     49664  ultralytics.nn.modules.block.C2f             [64, 64, 2, True]             \n",
            "  5                  -1  1     73984  ultralytics.nn.modules.conv.Conv             [64, 128, 3, 2]               \n",
            "  6                  -1  2    197632  ultralytics.nn.modules.block.C2f             [128, 128, 2, True]           \n",
            "  7                  -1  1    295424  ultralytics.nn.modules.conv.Conv             [128, 256, 3, 2]              \n",
            "  8                  -1  1    460288  ultralytics.nn.modules.block.C2f             [256, 256, 1, True]           \n",
            "  9                  -1  1    164608  ultralytics.nn.modules.block.SPPF            [256, 256, 5]                 \n",
            " 10                  -1  1         0  torch.nn.modules.upsampling.Upsample         [None, 2, 'nearest']          \n",
            " 11             [-1, 6]  1         0  ultralytics.nn.modules.conv.Concat           [1]                           \n",
            " 12                  -1  1    148224  ultralytics.nn.modules.block.C2f             [384, 128, 1]                 \n",
            " 13                  -1  1         0  torch.nn.modules.upsampling.Upsample         [None, 2, 'nearest']          \n",
            " 14             [-1, 4]  1         0  ultralytics.nn.modules.conv.Concat           [1]                           \n",
            " 15                  -1  1     37248  ultralytics.nn.modules.block.C2f             [192, 64, 1]                  \n",
            " 16                  -1  1     36992  ultralytics.nn.modules.conv.Conv             [64, 64, 3, 2]                \n",
            " 17            [-1, 12]  1         0  ultralytics.nn.modules.conv.Concat           [1]                           \n",
            " 18                  -1  1    123648  ultralytics.nn.modules.block.C2f             [192, 128, 1]                 \n",
            " 19                  -1  1    147712  ultralytics.nn.modules.conv.Conv             [128, 128, 3, 2]              \n",
            " 20             [-1, 9]  1         0  ultralytics.nn.modules.conv.Concat           [1]                           \n",
            " 21                  -1  1    493056  ultralytics.nn.modules.block.C2f             [384, 256, 1]                 \n",
            " 22        [15, 18, 21]  1    751507  ultralytics.nn.modules.head.Detect           [1, [64, 128, 256]]           \n",
            "Model summary: 225 layers, 3,011,043 parameters, 3,011,027 gradients, 8.2 GFLOPs\n",
            "\n",
            "Transferred 319/355 items from pretrained weights\n",
            "\u001b[34m\u001b[1mTensorBoard: \u001b[0mStart with 'tensorboard --logdir runs/detect/train2', view at http://localhost:6006/\n",
            "Freezing layer 'model.22.dfl.conv.weight'\n",
            "\u001b[34m\u001b[1mAMP: \u001b[0mrunning Automatic Mixed Precision (AMP) checks...\n",
            "\u001b[34m\u001b[1mAMP: \u001b[0mchecks passed ✅\n"
          ]
        },
        {
          "name": "stderr",
          "output_type": "stream",
          "text": [
            "\u001b[34m\u001b[1mtrain: \u001b[0mScanning /content/datasets/car-damage-detection/train/labels.cache... 104 images, 4 backgrounds, 0 corrupt: 100%|██████████| 104/104 [00:00<?, ?it/s]"
          ]
        },
        {
          "name": "stdout",
          "output_type": "stream",
          "text": [
            "\u001b[34m\u001b[1malbumentations: \u001b[0mBlur(p=0.01, blur_limit=(3, 7)), MedianBlur(p=0.01, blur_limit=(3, 7)), ToGray(p=0.01, num_output_channels=3, method='weighted_average'), CLAHE(p=0.01, clip_limit=(1.0, 4.0), tile_grid_size=(8, 8))\n"
          ]
        },
        {
          "name": "stderr",
          "output_type": "stream",
          "text": [
            "\n",
            "\u001b[34m\u001b[1mval: \u001b[0mScanning /content/datasets/car-damage-detection/valid/labels.cache... 6 images, 0 backgrounds, 0 corrupt: 100%|██████████| 6/6 [00:00<?, ?it/s]\n"
          ]
        },
        {
          "name": "stdout",
          "output_type": "stream",
          "text": [
            "Plotting labels to runs/detect/train2/labels.jpg... \n",
            "\u001b[34m\u001b[1moptimizer:\u001b[0m 'optimizer=auto' found, ignoring 'lr0=0.01' and 'momentum=0.937' and determining best 'optimizer', 'lr0' and 'momentum' automatically... \n",
            "\u001b[34m\u001b[1moptimizer:\u001b[0m AdamW(lr=0.002, momentum=0.9) with parameter groups 57 weight(decay=0.0), 64 weight(decay=0.0005), 63 bias(decay=0.0)\n",
            "\u001b[34m\u001b[1mTensorBoard: \u001b[0mmodel graph visualization added ✅\n",
            "Image sizes 640 train, 640 val\n",
            "Using 2 dataloader workers\n",
            "Logging results to \u001b[1mruns/detect/train2\u001b[0m\n",
            "Starting training for 30 epochs...\n",
            "\n",
            "      Epoch    GPU_mem   box_loss   cls_loss   dfl_loss  Instances       Size\n"
          ]
        },
        {
          "name": "stderr",
          "output_type": "stream",
          "text": [
            "       1/30      2.32G      2.037      3.319      2.116         33        640: 100%|██████████| 7/7 [00:03<00:00,  2.00it/s]\n",
            "                 Class     Images  Instances      Box(P          R      mAP50  mAP50-95): 100%|██████████| 1/1 [00:00<00:00,  4.18it/s]"
          ]
        },
        {
          "name": "stdout",
          "output_type": "stream",
          "text": [
            "                   all          6         10      0.005        0.9      0.143     0.0968\n"
          ]
        },
        {
          "name": "stderr",
          "output_type": "stream",
          "text": [
            "\n"
          ]
        },
        {
          "name": "stdout",
          "output_type": "stream",
          "text": [
            "\n",
            "      Epoch    GPU_mem   box_loss   cls_loss   dfl_loss  Instances       Size\n"
          ]
        },
        {
          "name": "stderr",
          "output_type": "stream",
          "text": [
            "       2/30       2.2G      1.799      3.051      1.973         32        640: 100%|██████████| 7/7 [00:02<00:00,  2.72it/s]\n",
            "                 Class     Images  Instances      Box(P          R      mAP50  mAP50-95): 100%|██████████| 1/1 [00:00<00:00,  4.48it/s]"
          ]
        },
        {
          "name": "stdout",
          "output_type": "stream",
          "text": [
            "                   all          6         10    0.00444        0.8      0.213      0.137\n"
          ]
        },
        {
          "name": "stderr",
          "output_type": "stream",
          "text": [
            "\n"
          ]
        },
        {
          "name": "stdout",
          "output_type": "stream",
          "text": [
            "\n",
            "      Epoch    GPU_mem   box_loss   cls_loss   dfl_loss  Instances       Size\n"
          ]
        },
        {
          "name": "stderr",
          "output_type": "stream",
          "text": [
            "       3/30       2.2G      1.739      2.781      1.894         27        640: 100%|██████████| 7/7 [00:01<00:00,  4.41it/s]\n",
            "                 Class     Images  Instances      Box(P          R      mAP50  mAP50-95): 100%|██████████| 1/1 [00:00<00:00,  6.21it/s]"
          ]
        },
        {
          "name": "stdout",
          "output_type": "stream",
          "text": [
            "                   all          6         10    0.00389        0.7      0.223     0.0495\n"
          ]
        },
        {
          "name": "stderr",
          "output_type": "stream",
          "text": [
            "\n"
          ]
        },
        {
          "name": "stdout",
          "output_type": "stream",
          "text": [
            "\n",
            "      Epoch    GPU_mem   box_loss   cls_loss   dfl_loss  Instances       Size\n"
          ]
        },
        {
          "name": "stderr",
          "output_type": "stream",
          "text": [
            "       4/30       2.2G       1.65      2.616      1.814         27        640: 100%|██████████| 7/7 [00:01<00:00,  4.97it/s]\n",
            "                 Class     Images  Instances      Box(P          R      mAP50  mAP50-95): 100%|██████████| 1/1 [00:00<00:00,  7.30it/s]"
          ]
        },
        {
          "name": "stdout",
          "output_type": "stream",
          "text": [
            "                   all          6         10    0.00444        0.8      0.143     0.0425\n"
          ]
        },
        {
          "name": "stderr",
          "output_type": "stream",
          "text": [
            "\n"
          ]
        },
        {
          "name": "stdout",
          "output_type": "stream",
          "text": [
            "\n",
            "      Epoch    GPU_mem   box_loss   cls_loss   dfl_loss  Instances       Size\n"
          ]
        },
        {
          "name": "stderr",
          "output_type": "stream",
          "text": [
            "       5/30       2.2G      1.531      2.477      1.702         24        640: 100%|██████████| 7/7 [00:01<00:00,  4.72it/s]\n",
            "                 Class     Images  Instances      Box(P          R      mAP50  mAP50-95): 100%|██████████| 1/1 [00:00<00:00,  8.19it/s]"
          ]
        },
        {
          "name": "stdout",
          "output_type": "stream",
          "text": [
            "                   all          6         10    0.00444        0.8      0.203      0.105\n"
          ]
        },
        {
          "name": "stderr",
          "output_type": "stream",
          "text": [
            "\n"
          ]
        },
        {
          "name": "stdout",
          "output_type": "stream",
          "text": [
            "\n",
            "      Epoch    GPU_mem   box_loss   cls_loss   dfl_loss  Instances       Size\n"
          ]
        },
        {
          "name": "stderr",
          "output_type": "stream",
          "text": [
            "       6/30       2.2G      1.549      2.466      1.695         16        640: 100%|██████████| 7/7 [00:01<00:00,  5.14it/s]\n",
            "                 Class     Images  Instances      Box(P          R      mAP50  mAP50-95): 100%|██████████| 1/1 [00:00<00:00,  6.20it/s]"
          ]
        },
        {
          "name": "stdout",
          "output_type": "stream",
          "text": [
            "                   all          6         10      0.005        0.9      0.146      0.065\n"
          ]
        },
        {
          "name": "stderr",
          "output_type": "stream",
          "text": [
            "\n"
          ]
        },
        {
          "name": "stdout",
          "output_type": "stream",
          "text": [
            "\n",
            "      Epoch    GPU_mem   box_loss   cls_loss   dfl_loss  Instances       Size\n"
          ]
        },
        {
          "name": "stderr",
          "output_type": "stream",
          "text": [
            "       7/30       2.2G      1.486      2.213      1.669         33        640: 100%|██████████| 7/7 [00:01<00:00,  3.77it/s]\n",
            "                 Class     Images  Instances      Box(P          R      mAP50  mAP50-95): 100%|██████████| 1/1 [00:00<00:00,  4.44it/s]"
          ]
        },
        {
          "name": "stdout",
          "output_type": "stream",
          "text": [
            "                   all          6         10      0.144        0.3      0.186     0.0363\n"
          ]
        },
        {
          "name": "stderr",
          "output_type": "stream",
          "text": [
            "\n"
          ]
        },
        {
          "name": "stdout",
          "output_type": "stream",
          "text": [
            "\n",
            "      Epoch    GPU_mem   box_loss   cls_loss   dfl_loss  Instances       Size\n"
          ]
        },
        {
          "name": "stderr",
          "output_type": "stream",
          "text": [
            "       8/30       2.2G      1.509      2.099      1.647         22        640: 100%|██████████| 7/7 [00:02<00:00,  3.24it/s]\n",
            "                 Class     Images  Instances      Box(P          R      mAP50  mAP50-95): 100%|██████████| 1/1 [00:00<00:00,  4.21it/s]"
          ]
        },
        {
          "name": "stdout",
          "output_type": "stream",
          "text": [
            "                   all          6         10    0.00444        0.8     0.0412     0.0092\n"
          ]
        },
        {
          "name": "stderr",
          "output_type": "stream",
          "text": [
            "\n"
          ]
        },
        {
          "name": "stdout",
          "output_type": "stream",
          "text": [
            "\n",
            "      Epoch    GPU_mem   box_loss   cls_loss   dfl_loss  Instances       Size\n"
          ]
        },
        {
          "name": "stderr",
          "output_type": "stream",
          "text": [
            "       9/30      2.18G      1.463      2.057      1.575         26        640: 100%|██████████| 7/7 [00:02<00:00,  3.03it/s]\n",
            "                 Class     Images  Instances      Box(P          R      mAP50  mAP50-95): 100%|██████████| 1/1 [00:00<00:00,  4.39it/s]"
          ]
        },
        {
          "name": "stdout",
          "output_type": "stream",
          "text": [
            "                   all          6         10      0.792        0.1      0.132     0.0808\n"
          ]
        },
        {
          "name": "stderr",
          "output_type": "stream",
          "text": [
            "\n"
          ]
        },
        {
          "name": "stdout",
          "output_type": "stream",
          "text": [
            "\n",
            "      Epoch    GPU_mem   box_loss   cls_loss   dfl_loss  Instances       Size\n"
          ]
        },
        {
          "name": "stderr",
          "output_type": "stream",
          "text": [
            "      10/30      2.21G      1.417      1.911      1.598         30        640: 100%|██████████| 7/7 [00:01<00:00,  5.02it/s]\n",
            "                 Class     Images  Instances      Box(P          R      mAP50  mAP50-95): 100%|██████████| 1/1 [00:00<00:00,  7.30it/s]\n"
          ]
        },
        {
          "name": "stdout",
          "output_type": "stream",
          "text": [
            "                   all          6         10      0.479        0.1      0.182     0.0879\n",
            "\n",
            "      Epoch    GPU_mem   box_loss   cls_loss   dfl_loss  Instances       Size\n"
          ]
        },
        {
          "name": "stderr",
          "output_type": "stream",
          "text": [
            "      11/30      2.21G      1.388      1.828       1.52         36        640: 100%|██████████| 7/7 [00:01<00:00,  5.00it/s]\n",
            "                 Class     Images  Instances      Box(P          R      mAP50  mAP50-95): 100%|██████████| 1/1 [00:00<00:00,  7.54it/s]"
          ]
        },
        {
          "name": "stdout",
          "output_type": "stream",
          "text": [
            "                   all          6         10      0.424        0.4      0.323      0.174\n"
          ]
        },
        {
          "name": "stderr",
          "output_type": "stream",
          "text": [
            "\n"
          ]
        },
        {
          "name": "stdout",
          "output_type": "stream",
          "text": [
            "\n",
            "      Epoch    GPU_mem   box_loss   cls_loss   dfl_loss  Instances       Size\n"
          ]
        },
        {
          "name": "stderr",
          "output_type": "stream",
          "text": [
            "      12/30      2.18G      1.412      1.863      1.538         23        640: 100%|██████████| 7/7 [00:01<00:00,  5.26it/s]\n",
            "                 Class     Images  Instances      Box(P          R      mAP50  mAP50-95): 100%|██████████| 1/1 [00:00<00:00, 10.51it/s]"
          ]
        },
        {
          "name": "stdout",
          "output_type": "stream",
          "text": [
            "                   all          6         10      0.123        0.2      0.051     0.0157\n"
          ]
        },
        {
          "name": "stderr",
          "output_type": "stream",
          "text": [
            "\n"
          ]
        },
        {
          "name": "stdout",
          "output_type": "stream",
          "text": [
            "\n",
            "      Epoch    GPU_mem   box_loss   cls_loss   dfl_loss  Instances       Size\n"
          ]
        },
        {
          "name": "stderr",
          "output_type": "stream",
          "text": [
            "      13/30       2.2G      1.393       1.74      1.501         26        640: 100%|██████████| 7/7 [00:01<00:00,  5.20it/s]\n",
            "                 Class     Images  Instances      Box(P          R      mAP50  mAP50-95): 100%|██████████| 1/1 [00:00<00:00,  5.64it/s]"
          ]
        },
        {
          "name": "stdout",
          "output_type": "stream",
          "text": [
            "                   all          6         10      0.738        0.1      0.124     0.0848\n"
          ]
        },
        {
          "name": "stderr",
          "output_type": "stream",
          "text": [
            "\n"
          ]
        },
        {
          "name": "stdout",
          "output_type": "stream",
          "text": [
            "\n",
            "      Epoch    GPU_mem   box_loss   cls_loss   dfl_loss  Instances       Size\n"
          ]
        },
        {
          "name": "stderr",
          "output_type": "stream",
          "text": [
            "      14/30      2.18G      1.314      1.735       1.48         33        640: 100%|██████████| 7/7 [00:01<00:00,  4.42it/s]\n",
            "                 Class     Images  Instances      Box(P          R      mAP50  mAP50-95): 100%|██████████| 1/1 [00:00<00:00,  4.99it/s]"
          ]
        },
        {
          "name": "stdout",
          "output_type": "stream",
          "text": [
            "                   all          6         10       0.72        0.1      0.143     0.0894\n"
          ]
        },
        {
          "name": "stderr",
          "output_type": "stream",
          "text": [
            "\n"
          ]
        },
        {
          "name": "stdout",
          "output_type": "stream",
          "text": [
            "\n",
            "      Epoch    GPU_mem   box_loss   cls_loss   dfl_loss  Instances       Size\n"
          ]
        },
        {
          "name": "stderr",
          "output_type": "stream",
          "text": [
            "      15/30      2.18G      1.355      1.618      1.452         27        640: 100%|██████████| 7/7 [00:02<00:00,  3.28it/s]\n",
            "                 Class     Images  Instances      Box(P          R      mAP50  mAP50-95): 100%|██████████| 1/1 [00:00<00:00,  5.24it/s]\n"
          ]
        },
        {
          "name": "stdout",
          "output_type": "stream",
          "text": [
            "                   all          6         10      0.143        0.4     0.0989     0.0417\n",
            "\n",
            "      Epoch    GPU_mem   box_loss   cls_loss   dfl_loss  Instances       Size\n"
          ]
        },
        {
          "name": "stderr",
          "output_type": "stream",
          "text": [
            "      16/30      2.18G      1.312      1.662      1.502         25        640: 100%|██████████| 7/7 [00:02<00:00,  3.15it/s]\n",
            "                 Class     Images  Instances      Box(P          R      mAP50  mAP50-95): 100%|██████████| 1/1 [00:00<00:00,  4.30it/s]"
          ]
        },
        {
          "name": "stdout",
          "output_type": "stream",
          "text": [
            "                   all          6         10      0.157        0.1     0.0577     0.0222\n"
          ]
        },
        {
          "name": "stderr",
          "output_type": "stream",
          "text": [
            "\n"
          ]
        },
        {
          "name": "stdout",
          "output_type": "stream",
          "text": [
            "\n",
            "      Epoch    GPU_mem   box_loss   cls_loss   dfl_loss  Instances       Size\n"
          ]
        },
        {
          "name": "stderr",
          "output_type": "stream",
          "text": [
            "      17/30      2.17G      1.298      1.615      1.464         24        640: 100%|██████████| 7/7 [00:01<00:00,  5.15it/s]\n",
            "                 Class     Images  Instances      Box(P          R      mAP50  mAP50-95): 100%|██████████| 1/1 [00:00<00:00,  6.32it/s]\n"
          ]
        },
        {
          "name": "stdout",
          "output_type": "stream",
          "text": [
            "                   all          6         10     0.0723        0.4     0.0466     0.0149\n",
            "\n",
            "      Epoch    GPU_mem   box_loss   cls_loss   dfl_loss  Instances       Size\n"
          ]
        },
        {
          "name": "stderr",
          "output_type": "stream",
          "text": [
            "      18/30       2.2G      1.212      1.507      1.385         22        640: 100%|██████████| 7/7 [00:01<00:00,  5.38it/s]\n",
            "                 Class     Images  Instances      Box(P          R      mAP50  mAP50-95): 100%|██████████| 1/1 [00:00<00:00,  7.17it/s]"
          ]
        },
        {
          "name": "stdout",
          "output_type": "stream",
          "text": [
            "                   all          6         10      0.136      0.458      0.101     0.0343\n"
          ]
        },
        {
          "name": "stderr",
          "output_type": "stream",
          "text": [
            "\n"
          ]
        },
        {
          "name": "stdout",
          "output_type": "stream",
          "text": [
            "\n",
            "      Epoch    GPU_mem   box_loss   cls_loss   dfl_loss  Instances       Size\n"
          ]
        },
        {
          "name": "stderr",
          "output_type": "stream",
          "text": [
            "      19/30      2.18G      1.198      1.509      1.392         19        640: 100%|██████████| 7/7 [00:01<00:00,  5.24it/s]\n",
            "                 Class     Images  Instances      Box(P          R      mAP50  mAP50-95): 100%|██████████| 1/1 [00:00<00:00,  5.91it/s]"
          ]
        },
        {
          "name": "stdout",
          "output_type": "stream",
          "text": [
            "                   all          6         10      0.345        0.3      0.224      0.107\n"
          ]
        },
        {
          "name": "stderr",
          "output_type": "stream",
          "text": [
            "\n"
          ]
        },
        {
          "name": "stdout",
          "output_type": "stream",
          "text": [
            "\n",
            "      Epoch    GPU_mem   box_loss   cls_loss   dfl_loss  Instances       Size\n"
          ]
        },
        {
          "name": "stderr",
          "output_type": "stream",
          "text": [
            "      20/30      2.22G      1.152      1.404      1.331         39        640: 100%|██████████| 7/7 [00:01<00:00,  4.73it/s]\n",
            "                 Class     Images  Instances      Box(P          R      mAP50  mAP50-95): 100%|██████████| 1/1 [00:00<00:00,  6.66it/s]\n"
          ]
        },
        {
          "name": "stdout",
          "output_type": "stream",
          "text": [
            "                   all          6         10      0.474        0.4      0.279      0.168\n",
            "Closing dataloader mosaic\n",
            "\u001b[34m\u001b[1malbumentations: \u001b[0mBlur(p=0.01, blur_limit=(3, 7)), MedianBlur(p=0.01, blur_limit=(3, 7)), ToGray(p=0.01, num_output_channels=3, method='weighted_average'), CLAHE(p=0.01, clip_limit=(1.0, 4.0), tile_grid_size=(8, 8))\n",
            "\n",
            "      Epoch    GPU_mem   box_loss   cls_loss   dfl_loss  Instances       Size\n"
          ]
        },
        {
          "name": "stderr",
          "output_type": "stream",
          "text": [
            "      21/30      2.23G      1.148      1.578      1.375         17        640: 100%|██████████| 7/7 [00:03<00:00,  1.81it/s]\n",
            "                 Class     Images  Instances      Box(P          R      mAP50  mAP50-95): 100%|██████████| 1/1 [00:00<00:00,  3.50it/s]"
          ]
        },
        {
          "name": "stdout",
          "output_type": "stream",
          "text": [
            "                   all          6         10      0.479        0.4      0.369      0.239\n"
          ]
        },
        {
          "name": "stderr",
          "output_type": "stream",
          "text": [
            "\n"
          ]
        },
        {
          "name": "stdout",
          "output_type": "stream",
          "text": [
            "\n",
            "      Epoch    GPU_mem   box_loss   cls_loss   dfl_loss  Instances       Size\n"
          ]
        },
        {
          "name": "stderr",
          "output_type": "stream",
          "text": [
            "      22/30      2.18G       1.09      1.524      1.325         12        640: 100%|██████████| 7/7 [00:02<00:00,  3.21it/s]\n",
            "                 Class     Images  Instances      Box(P          R      mAP50  mAP50-95): 100%|██████████| 1/1 [00:00<00:00,  4.44it/s]"
          ]
        },
        {
          "name": "stdout",
          "output_type": "stream",
          "text": [
            "                   all          6         10      0.794      0.388      0.405      0.278\n"
          ]
        },
        {
          "name": "stderr",
          "output_type": "stream",
          "text": [
            "\n"
          ]
        },
        {
          "name": "stdout",
          "output_type": "stream",
          "text": [
            "\n",
            "      Epoch    GPU_mem   box_loss   cls_loss   dfl_loss  Instances       Size\n"
          ]
        },
        {
          "name": "stderr",
          "output_type": "stream",
          "text": [
            "      23/30      2.17G      1.049      1.435       1.29         17        640: 100%|██████████| 7/7 [00:01<00:00,  4.19it/s]\n",
            "                 Class     Images  Instances      Box(P          R      mAP50  mAP50-95): 100%|██████████| 1/1 [00:00<00:00,  5.78it/s]"
          ]
        },
        {
          "name": "stdout",
          "output_type": "stream",
          "text": [
            "                   all          6         10      0.554      0.497      0.382      0.197\n"
          ]
        },
        {
          "name": "stderr",
          "output_type": "stream",
          "text": [
            "\n"
          ]
        },
        {
          "name": "stdout",
          "output_type": "stream",
          "text": [
            "\n",
            "      Epoch    GPU_mem   box_loss   cls_loss   dfl_loss  Instances       Size\n"
          ]
        },
        {
          "name": "stderr",
          "output_type": "stream",
          "text": [
            "      24/30      2.18G      1.015      1.391      1.288         15        640: 100%|██████████| 7/7 [00:01<00:00,  5.05it/s]\n",
            "                 Class     Images  Instances      Box(P          R      mAP50  mAP50-95): 100%|██████████| 1/1 [00:00<00:00,  6.33it/s]\n"
          ]
        },
        {
          "name": "stdout",
          "output_type": "stream",
          "text": [
            "                   all          6         10      0.267        0.4       0.25      0.142\n",
            "\n",
            "      Epoch    GPU_mem   box_loss   cls_loss   dfl_loss  Instances       Size\n"
          ]
        },
        {
          "name": "stderr",
          "output_type": "stream",
          "text": [
            "      25/30      2.17G     0.9891      1.318      1.267         15        640: 100%|██████████| 7/7 [00:01<00:00,  5.15it/s]\n",
            "                 Class     Images  Instances      Box(P          R      mAP50  mAP50-95): 100%|██████████| 1/1 [00:00<00:00, 13.23it/s]"
          ]
        },
        {
          "name": "stdout",
          "output_type": "stream",
          "text": [
            "                   all          6         10      0.519        0.5      0.396      0.144\n"
          ]
        },
        {
          "name": "stderr",
          "output_type": "stream",
          "text": [
            "\n"
          ]
        },
        {
          "name": "stdout",
          "output_type": "stream",
          "text": [
            "\n",
            "      Epoch    GPU_mem   box_loss   cls_loss   dfl_loss  Instances       Size\n"
          ]
        },
        {
          "name": "stderr",
          "output_type": "stream",
          "text": [
            "      26/30      2.18G     0.9872      1.324       1.25         20        640: 100%|██████████| 7/7 [00:01<00:00,  5.02it/s]\n",
            "                 Class     Images  Instances      Box(P          R      mAP50  mAP50-95): 100%|██████████| 1/1 [00:00<00:00,  9.45it/s]"
          ]
        },
        {
          "name": "stdout",
          "output_type": "stream",
          "text": [
            "                   all          6         10      0.375      0.481      0.349      0.156\n"
          ]
        },
        {
          "name": "stderr",
          "output_type": "stream",
          "text": [
            "\n"
          ]
        },
        {
          "name": "stdout",
          "output_type": "stream",
          "text": [
            "\n",
            "      Epoch    GPU_mem   box_loss   cls_loss   dfl_loss  Instances       Size\n"
          ]
        },
        {
          "name": "stderr",
          "output_type": "stream",
          "text": [
            "      27/30      2.17G     0.9058       1.22      1.205         19        640: 100%|██████████| 7/7 [00:01<00:00,  4.63it/s]\n",
            "                 Class     Images  Instances      Box(P          R      mAP50  mAP50-95): 100%|██████████| 1/1 [00:00<00:00, 11.72it/s]"
          ]
        },
        {
          "name": "stdout",
          "output_type": "stream",
          "text": [
            "                   all          6         10      0.728        0.3      0.323      0.129\n"
          ]
        },
        {
          "name": "stderr",
          "output_type": "stream",
          "text": [
            "\n"
          ]
        },
        {
          "name": "stdout",
          "output_type": "stream",
          "text": [
            "\n",
            "      Epoch    GPU_mem   box_loss   cls_loss   dfl_loss  Instances       Size\n"
          ]
        },
        {
          "name": "stderr",
          "output_type": "stream",
          "text": [
            "      28/30      2.16G     0.8565      1.163      1.176         12        640: 100%|██████████| 7/7 [00:02<00:00,  3.34it/s]\n",
            "                 Class     Images  Instances      Box(P          R      mAP50  mAP50-95): 100%|██████████| 1/1 [00:00<00:00,  4.15it/s]"
          ]
        },
        {
          "name": "stdout",
          "output_type": "stream",
          "text": [
            "                   all          6         10      0.703        0.3      0.302      0.108\n"
          ]
        },
        {
          "name": "stderr",
          "output_type": "stream",
          "text": [
            "\n"
          ]
        },
        {
          "name": "stdout",
          "output_type": "stream",
          "text": [
            "\n",
            "      Epoch    GPU_mem   box_loss   cls_loss   dfl_loss  Instances       Size\n"
          ]
        },
        {
          "name": "stderr",
          "output_type": "stream",
          "text": [
            "      29/30      2.16G      0.881      1.173      1.184         14        640: 100%|██████████| 7/7 [00:01<00:00,  3.56it/s]\n",
            "                 Class     Images  Instances      Box(P          R      mAP50  mAP50-95): 100%|██████████| 1/1 [00:00<00:00,  3.49it/s]"
          ]
        },
        {
          "name": "stdout",
          "output_type": "stream",
          "text": [
            "                   all          6         10      0.589      0.289      0.285      0.106\n"
          ]
        },
        {
          "name": "stderr",
          "output_type": "stream",
          "text": [
            "\n"
          ]
        },
        {
          "name": "stdout",
          "output_type": "stream",
          "text": [
            "\n",
            "      Epoch    GPU_mem   box_loss   cls_loss   dfl_loss  Instances       Size\n"
          ]
        },
        {
          "name": "stderr",
          "output_type": "stream",
          "text": [
            "      30/30      2.16G     0.8651      1.121      1.181         12        640: 100%|██████████| 7/7 [00:01<00:00,  3.56it/s]\n",
            "                 Class     Images  Instances      Box(P          R      mAP50  mAP50-95): 100%|██████████| 1/1 [00:00<00:00,  7.77it/s]"
          ]
        },
        {
          "name": "stdout",
          "output_type": "stream",
          "text": [
            "                   all          6         10      0.594      0.294      0.255      0.112\n"
          ]
        },
        {
          "name": "stderr",
          "output_type": "stream",
          "text": [
            "\n"
          ]
        },
        {
          "name": "stdout",
          "output_type": "stream",
          "text": [
            "\n",
            "30 epochs completed in 0.026 hours.\n",
            "Optimizer stripped from runs/detect/train2/weights/last.pt, 6.2MB\n",
            "Optimizer stripped from runs/detect/train2/weights/best.pt, 6.2MB\n",
            "\n",
            "Validating runs/detect/train2/weights/best.pt...\n",
            "Ultralytics 8.3.65 🚀 Python-3.11.11 torch-2.5.1+cu121 CUDA:0 (Tesla T4, 15102MiB)\n",
            "Model summary (fused): 168 layers, 3,005,843 parameters, 0 gradients, 8.1 GFLOPs\n"
          ]
        },
        {
          "name": "stderr",
          "output_type": "stream",
          "text": [
            "                 Class     Images  Instances      Box(P          R      mAP50  mAP50-95): 100%|██████████| 1/1 [00:00<00:00, 19.74it/s]\n"
          ]
        },
        {
          "name": "stdout",
          "output_type": "stream",
          "text": [
            "                   all          6         10      0.794      0.388      0.405      0.278\n",
            "Speed: 0.2ms preprocess, 2.2ms inference, 0.0ms loss, 1.5ms postprocess per image\n",
            "Results saved to \u001b[1mruns/detect/train2\u001b[0m\n"
          ]
        }
      ],
      "source": [
        "import logging\n",
        "from ultralytics import YOLO\n",
        "import os\n",
        "\n",
        "# Load a pre-trained YOLOv8 model\n",
        "model = YOLO(\"models/yolov8n.pt\")\n",
        "\n",
        "# Get the full path to the downloaded dataset directory\n",
        "dataset_dir = \"/content/datasets/\" + version.name  \n",
        "\n",
        "# Construct the full path to data.yaml\n",
        "data_yaml_path = os.path.join(dataset_dir, \"data.yaml\")\n",
        "\n",
        "# Train the model using the full path to data.yaml\n",
        "results = model.train(data=data_yaml_path, epochs=30)\n",
        "\n",
        "logging.info(f\"Process finished successfully!\")"
      ]
    },
    {
      "cell_type": "markdown",
      "metadata": {
        "id": "-vuPAGrQ2whf"
      },
      "source": [
        "Test the model"
      ]
    },
    {
      "cell_type": "code",
      "execution_count": 16,
      "metadata": {
        "colab": {
          "base_uri": "https://localhost:8080/"
        },
        "id": "3dWhlK-D7gwq",
        "outputId": "48407fb6-7595-4ab3-e04a-f02febbdf9ae"
      },
      "outputs": [
        {
          "name": "stdout",
          "output_type": "stream",
          "text": [
            "\n",
            "\n",
            "WARNING ⚠️ inference results will accumulate in RAM unless `stream=True` is passed, causing potential out-of-memory\n",
            "errors for large sources or long-running streams and videos. See https://docs.ultralytics.com/modes/predict/ for help.\n",
            "\n",
            "Example:\n",
            "    results = model(source=..., stream=True)  # generator of Results objects\n",
            "    for r in results:\n",
            "        boxes = r.boxes  # Boxes object for bbox outputs\n",
            "        masks = r.masks  # Masks object for segment masks outputs\n",
            "        probs = r.probs  # Class probabilities for classification outputs\n",
            "\n",
            "video 1/1 (frame 1/394) /content/test/auto_20241003_090032.mp4: 384x640 2 incident-autos, 7.2ms\n",
            "video 1/1 (frame 2/394) /content/test/auto_20241003_090032.mp4: 384x640 2 incident-autos, 9.6ms\n",
            "video 1/1 (frame 3/394) /content/test/auto_20241003_090032.mp4: 384x640 2 incident-autos, 8.9ms\n",
            "video 1/1 (frame 4/394) /content/test/auto_20241003_090032.mp4: 384x640 1 incident-auto, 9.4ms\n",
            "video 1/1 (frame 5/394) /content/test/auto_20241003_090032.mp4: 384x640 1 incident-auto, 9.5ms\n",
            "video 1/1 (frame 6/394) /content/test/auto_20241003_090032.mp4: 384x640 1 incident-auto, 10.1ms\n",
            "video 1/1 (frame 7/394) /content/test/auto_20241003_090032.mp4: 384x640 1 incident-auto, 9.7ms\n",
            "video 1/1 (frame 8/394) /content/test/auto_20241003_090032.mp4: 384x640 2 incident-autos, 9.4ms\n",
            "video 1/1 (frame 9/394) /content/test/auto_20241003_090032.mp4: 384x640 2 incident-autos, 10.3ms\n",
            "video 1/1 (frame 10/394) /content/test/auto_20241003_090032.mp4: 384x640 2 incident-autos, 16.2ms\n",
            "video 1/1 (frame 11/394) /content/test/auto_20241003_090032.mp4: 384x640 2 incident-autos, 9.5ms\n",
            "video 1/1 (frame 12/394) /content/test/auto_20241003_090032.mp4: 384x640 1 incident-auto, 9.8ms\n",
            "video 1/1 (frame 13/394) /content/test/auto_20241003_090032.mp4: 384x640 2 incident-autos, 9.2ms\n",
            "video 1/1 (frame 14/394) /content/test/auto_20241003_090032.mp4: 384x640 1 incident-auto, 9.5ms\n",
            "video 1/1 (frame 15/394) /content/test/auto_20241003_090032.mp4: 384x640 4 incident-autos, 9.7ms\n",
            "video 1/1 (frame 16/394) /content/test/auto_20241003_090032.mp4: 384x640 4 incident-autos, 9.6ms\n",
            "video 1/1 (frame 17/394) /content/test/auto_20241003_090032.mp4: 384x640 3 incident-autos, 9.4ms\n",
            "video 1/1 (frame 18/394) /content/test/auto_20241003_090032.mp4: 384x640 3 incident-autos, 9.4ms\n",
            "video 1/1 (frame 19/394) /content/test/auto_20241003_090032.mp4: 384x640 3 incident-autos, 9.1ms\n",
            "video 1/1 (frame 20/394) /content/test/auto_20241003_090032.mp4: 384x640 2 incident-autos, 9.6ms\n",
            "video 1/1 (frame 21/394) /content/test/auto_20241003_090032.mp4: 384x640 2 incident-autos, 9.3ms\n",
            "video 1/1 (frame 22/394) /content/test/auto_20241003_090032.mp4: 384x640 2 incident-autos, 9.5ms\n",
            "video 1/1 (frame 23/394) /content/test/auto_20241003_090032.mp4: 384x640 3 incident-autos, 10.2ms\n",
            "video 1/1 (frame 24/394) /content/test/auto_20241003_090032.mp4: 384x640 2 incident-autos, 13.3ms\n",
            "video 1/1 (frame 25/394) /content/test/auto_20241003_090032.mp4: 384x640 2 incident-autos, 9.9ms\n",
            "video 1/1 (frame 26/394) /content/test/auto_20241003_090032.mp4: 384x640 2 incident-autos, 9.7ms\n",
            "video 1/1 (frame 27/394) /content/test/auto_20241003_090032.mp4: 384x640 2 incident-autos, 10.1ms\n",
            "video 1/1 (frame 28/394) /content/test/auto_20241003_090032.mp4: 384x640 2 incident-autos, 9.6ms\n",
            "video 1/1 (frame 29/394) /content/test/auto_20241003_090032.mp4: 384x640 2 incident-autos, 10.4ms\n",
            "video 1/1 (frame 30/394) /content/test/auto_20241003_090032.mp4: 384x640 2 incident-autos, 8.9ms\n",
            "video 1/1 (frame 31/394) /content/test/auto_20241003_090032.mp4: 384x640 1 incident-auto, 10.4ms\n",
            "video 1/1 (frame 32/394) /content/test/auto_20241003_090032.mp4: 384x640 2 incident-autos, 9.9ms\n",
            "video 1/1 (frame 33/394) /content/test/auto_20241003_090032.mp4: 384x640 2 incident-autos, 9.9ms\n",
            "video 1/1 (frame 34/394) /content/test/auto_20241003_090032.mp4: 384x640 3 incident-autos, 11.1ms\n",
            "video 1/1 (frame 35/394) /content/test/auto_20241003_090032.mp4: 384x640 4 incident-autos, 10.9ms\n",
            "video 1/1 (frame 36/394) /content/test/auto_20241003_090032.mp4: 384x640 2 incident-autos, 18.1ms\n",
            "video 1/1 (frame 37/394) /content/test/auto_20241003_090032.mp4: 384x640 2 incident-autos, 11.4ms\n",
            "video 1/1 (frame 38/394) /content/test/auto_20241003_090032.mp4: 384x640 2 incident-autos, 12.4ms\n",
            "video 1/1 (frame 39/394) /content/test/auto_20241003_090032.mp4: 384x640 2 incident-autos, 21.9ms\n",
            "video 1/1 (frame 40/394) /content/test/auto_20241003_090032.mp4: 384x640 3 incident-autos, 9.2ms\n",
            "video 1/1 (frame 41/394) /content/test/auto_20241003_090032.mp4: 384x640 3 incident-autos, 16.2ms\n",
            "video 1/1 (frame 42/394) /content/test/auto_20241003_090032.mp4: 384x640 4 incident-autos, 16.7ms\n",
            "video 1/1 (frame 43/394) /content/test/auto_20241003_090032.mp4: 384x640 4 incident-autos, 9.6ms\n",
            "video 1/1 (frame 44/394) /content/test/auto_20241003_090032.mp4: 384x640 4 incident-autos, 16.8ms\n",
            "video 1/1 (frame 45/394) /content/test/auto_20241003_090032.mp4: 384x640 5 incident-autos, 9.0ms\n",
            "video 1/1 (frame 46/394) /content/test/auto_20241003_090032.mp4: 384x640 4 incident-autos, 18.6ms\n",
            "video 1/1 (frame 47/394) /content/test/auto_20241003_090032.mp4: 384x640 4 incident-autos, 9.8ms\n",
            "video 1/1 (frame 48/394) /content/test/auto_20241003_090032.mp4: 384x640 4 incident-autos, 10.3ms\n",
            "video 1/1 (frame 49/394) /content/test/auto_20241003_090032.mp4: 384x640 4 incident-autos, 33.0ms\n",
            "video 1/1 (frame 50/394) /content/test/auto_20241003_090032.mp4: 384x640 4 incident-autos, 9.5ms\n",
            "video 1/1 (frame 51/394) /content/test/auto_20241003_090032.mp4: 384x640 4 incident-autos, 22.1ms\n",
            "video 1/1 (frame 52/394) /content/test/auto_20241003_090032.mp4: 384x640 4 incident-autos, 18.7ms\n",
            "video 1/1 (frame 53/394) /content/test/auto_20241003_090032.mp4: 384x640 4 incident-autos, 18.0ms\n",
            "video 1/1 (frame 54/394) /content/test/auto_20241003_090032.mp4: 384x640 4 incident-autos, 27.1ms\n",
            "video 1/1 (frame 55/394) /content/test/auto_20241003_090032.mp4: 384x640 3 incident-autos, 22.1ms\n",
            "video 1/1 (frame 56/394) /content/test/auto_20241003_090032.mp4: 384x640 4 incident-autos, 10.0ms\n",
            "video 1/1 (frame 57/394) /content/test/auto_20241003_090032.mp4: 384x640 4 incident-autos, 11.8ms\n",
            "video 1/1 (frame 58/394) /content/test/auto_20241003_090032.mp4: 384x640 5 incident-autos, 12.0ms\n",
            "video 1/1 (frame 59/394) /content/test/auto_20241003_090032.mp4: 384x640 5 incident-autos, 15.7ms\n",
            "video 1/1 (frame 60/394) /content/test/auto_20241003_090032.mp4: 384x640 4 incident-autos, 13.1ms\n",
            "video 1/1 (frame 61/394) /content/test/auto_20241003_090032.mp4: 384x640 3 incident-autos, 12.6ms\n",
            "video 1/1 (frame 62/394) /content/test/auto_20241003_090032.mp4: 384x640 4 incident-autos, 14.2ms\n",
            "video 1/1 (frame 63/394) /content/test/auto_20241003_090032.mp4: 384x640 4 incident-autos, 10.0ms\n",
            "video 1/1 (frame 64/394) /content/test/auto_20241003_090032.mp4: 384x640 3 incident-autos, 15.7ms\n",
            "video 1/1 (frame 65/394) /content/test/auto_20241003_090032.mp4: 384x640 4 incident-autos, 22.4ms\n",
            "video 1/1 (frame 66/394) /content/test/auto_20241003_090032.mp4: 384x640 4 incident-autos, 18.9ms\n",
            "video 1/1 (frame 67/394) /content/test/auto_20241003_090032.mp4: 384x640 4 incident-autos, 17.4ms\n",
            "video 1/1 (frame 68/394) /content/test/auto_20241003_090032.mp4: 384x640 2 incident-autos, 12.8ms\n",
            "video 1/1 (frame 69/394) /content/test/auto_20241003_090032.mp4: 384x640 2 incident-autos, 19.5ms\n",
            "video 1/1 (frame 70/394) /content/test/auto_20241003_090032.mp4: 384x640 4 incident-autos, 16.9ms\n",
            "video 1/1 (frame 71/394) /content/test/auto_20241003_090032.mp4: 384x640 2 incident-autos, 18.0ms\n",
            "video 1/1 (frame 72/394) /content/test/auto_20241003_090032.mp4: 384x640 4 incident-autos, 14.3ms\n",
            "video 1/1 (frame 73/394) /content/test/auto_20241003_090032.mp4: 384x640 5 incident-autos, 19.7ms\n",
            "video 1/1 (frame 74/394) /content/test/auto_20241003_090032.mp4: 384x640 4 incident-autos, 20.1ms\n",
            "video 1/1 (frame 75/394) /content/test/auto_20241003_090032.mp4: 384x640 4 incident-autos, 16.8ms\n",
            "video 1/1 (frame 76/394) /content/test/auto_20241003_090032.mp4: 384x640 3 incident-autos, 26.0ms\n",
            "video 1/1 (frame 77/394) /content/test/auto_20241003_090032.mp4: 384x640 3 incident-autos, 23.4ms\n",
            "video 1/1 (frame 78/394) /content/test/auto_20241003_090032.mp4: 384x640 3 incident-autos, 20.4ms\n",
            "video 1/1 (frame 79/394) /content/test/auto_20241003_090032.mp4: 384x640 3 incident-autos, 22.5ms\n",
            "video 1/1 (frame 80/394) /content/test/auto_20241003_090032.mp4: 384x640 3 incident-autos, 20.6ms\n",
            "video 1/1 (frame 81/394) /content/test/auto_20241003_090032.mp4: 384x640 4 incident-autos, 14.9ms\n",
            "video 1/1 (frame 82/394) /content/test/auto_20241003_090032.mp4: 384x640 3 incident-autos, 20.2ms\n",
            "video 1/1 (frame 83/394) /content/test/auto_20241003_090032.mp4: 384x640 3 incident-autos, 12.5ms\n",
            "video 1/1 (frame 84/394) /content/test/auto_20241003_090032.mp4: 384x640 3 incident-autos, 12.5ms\n",
            "video 1/1 (frame 85/394) /content/test/auto_20241003_090032.mp4: 384x640 3 incident-autos, 22.0ms\n",
            "video 1/1 (frame 86/394) /content/test/auto_20241003_090032.mp4: 384x640 3 incident-autos, 18.8ms\n",
            "video 1/1 (frame 87/394) /content/test/auto_20241003_090032.mp4: 384x640 3 incident-autos, 24.3ms\n",
            "video 1/1 (frame 88/394) /content/test/auto_20241003_090032.mp4: 384x640 3 incident-autos, 20.4ms\n",
            "video 1/1 (frame 89/394) /content/test/auto_20241003_090032.mp4: 384x640 3 incident-autos, 13.2ms\n",
            "video 1/1 (frame 90/394) /content/test/auto_20241003_090032.mp4: 384x640 3 incident-autos, 24.4ms\n",
            "video 1/1 (frame 91/394) /content/test/auto_20241003_090032.mp4: 384x640 3 incident-autos, 15.5ms\n",
            "video 1/1 (frame 92/394) /content/test/auto_20241003_090032.mp4: 384x640 3 incident-autos, 17.8ms\n",
            "video 1/1 (frame 93/394) /content/test/auto_20241003_090032.mp4: 384x640 3 incident-autos, 15.6ms\n",
            "video 1/1 (frame 94/394) /content/test/auto_20241003_090032.mp4: 384x640 3 incident-autos, 22.3ms\n",
            "video 1/1 (frame 95/394) /content/test/auto_20241003_090032.mp4: 384x640 3 incident-autos, 20.9ms\n",
            "video 1/1 (frame 96/394) /content/test/auto_20241003_090032.mp4: 384x640 3 incident-autos, 22.4ms\n",
            "video 1/1 (frame 97/394) /content/test/auto_20241003_090032.mp4: 384x640 3 incident-autos, 10.6ms\n",
            "video 1/1 (frame 98/394) /content/test/auto_20241003_090032.mp4: 384x640 3 incident-autos, 25.8ms\n",
            "video 1/1 (frame 99/394) /content/test/auto_20241003_090032.mp4: 384x640 2 incident-autos, 9.4ms\n",
            "video 1/1 (frame 100/394) /content/test/auto_20241003_090032.mp4: 384x640 2 incident-autos, 24.0ms\n",
            "video 1/1 (frame 101/394) /content/test/auto_20241003_090032.mp4: 384x640 1 incident-auto, 21.2ms\n",
            "video 1/1 (frame 102/394) /content/test/auto_20241003_090032.mp4: 384x640 2 incident-autos, 23.7ms\n",
            "video 1/1 (frame 103/394) /content/test/auto_20241003_090032.mp4: 384x640 1 incident-auto, 18.2ms\n",
            "video 1/1 (frame 104/394) /content/test/auto_20241003_090032.mp4: 384x640 2 incident-autos, 15.9ms\n",
            "video 1/1 (frame 105/394) /content/test/auto_20241003_090032.mp4: 384x640 2 incident-autos, 9.9ms\n",
            "video 1/1 (frame 106/394) /content/test/auto_20241003_090032.mp4: 384x640 1 incident-auto, 17.0ms\n",
            "video 1/1 (frame 107/394) /content/test/auto_20241003_090032.mp4: 384x640 2 incident-autos, 12.4ms\n",
            "video 1/1 (frame 108/394) /content/test/auto_20241003_090032.mp4: 384x640 2 incident-autos, 12.4ms\n",
            "video 1/1 (frame 109/394) /content/test/auto_20241003_090032.mp4: 384x640 3 incident-autos, 16.5ms\n",
            "video 1/1 (frame 110/394) /content/test/auto_20241003_090032.mp4: 384x640 2 incident-autos, 19.4ms\n",
            "video 1/1 (frame 111/394) /content/test/auto_20241003_090032.mp4: 384x640 2 incident-autos, 27.8ms\n",
            "video 1/1 (frame 112/394) /content/test/auto_20241003_090032.mp4: 384x640 2 incident-autos, 19.7ms\n",
            "video 1/1 (frame 113/394) /content/test/auto_20241003_090032.mp4: 384x640 2 incident-autos, 28.3ms\n",
            "video 1/1 (frame 114/394) /content/test/auto_20241003_090032.mp4: 384x640 1 incident-auto, 10.0ms\n",
            "video 1/1 (frame 115/394) /content/test/auto_20241003_090032.mp4: 384x640 1 incident-auto, 9.6ms\n",
            "video 1/1 (frame 116/394) /content/test/auto_20241003_090032.mp4: 384x640 2 incident-autos, 11.8ms\n",
            "video 1/1 (frame 117/394) /content/test/auto_20241003_090032.mp4: 384x640 1 incident-auto, 20.1ms\n",
            "video 1/1 (frame 118/394) /content/test/auto_20241003_090032.mp4: 384x640 1 incident-auto, 9.8ms\n",
            "video 1/1 (frame 119/394) /content/test/auto_20241003_090032.mp4: 384x640 1 incident-auto, 17.4ms\n",
            "video 1/1 (frame 120/394) /content/test/auto_20241003_090032.mp4: 384x640 1 incident-auto, 9.2ms\n",
            "video 1/1 (frame 121/394) /content/test/auto_20241003_090032.mp4: 384x640 1 incident-auto, 25.4ms\n",
            "video 1/1 (frame 122/394) /content/test/auto_20241003_090032.mp4: 384x640 (no detections), 22.6ms\n",
            "video 1/1 (frame 123/394) /content/test/auto_20241003_090032.mp4: 384x640 (no detections), 14.0ms\n",
            "video 1/1 (frame 124/394) /content/test/auto_20241003_090032.mp4: 384x640 1 incident-auto, 11.0ms\n",
            "video 1/1 (frame 125/394) /content/test/auto_20241003_090032.mp4: 384x640 1 incident-auto, 17.1ms\n",
            "video 1/1 (frame 126/394) /content/test/auto_20241003_090032.mp4: 384x640 1 incident-auto, 9.6ms\n",
            "video 1/1 (frame 127/394) /content/test/auto_20241003_090032.mp4: 384x640 2 incident-autos, 9.7ms\n",
            "video 1/1 (frame 128/394) /content/test/auto_20241003_090032.mp4: 384x640 1 incident-auto, 10.8ms\n",
            "video 1/1 (frame 129/394) /content/test/auto_20241003_090032.mp4: 384x640 2 incident-autos, 10.6ms\n",
            "video 1/1 (frame 130/394) /content/test/auto_20241003_090032.mp4: 384x640 2 incident-autos, 9.5ms\n",
            "video 1/1 (frame 131/394) /content/test/auto_20241003_090032.mp4: 384x640 2 incident-autos, 9.5ms\n",
            "video 1/1 (frame 132/394) /content/test/auto_20241003_090032.mp4: 384x640 2 incident-autos, 9.8ms\n",
            "video 1/1 (frame 133/394) /content/test/auto_20241003_090032.mp4: 384x640 2 incident-autos, 13.4ms\n",
            "video 1/1 (frame 134/394) /content/test/auto_20241003_090032.mp4: 384x640 2 incident-autos, 9.1ms\n",
            "video 1/1 (frame 135/394) /content/test/auto_20241003_090032.mp4: 384x640 2 incident-autos, 9.1ms\n",
            "video 1/1 (frame 136/394) /content/test/auto_20241003_090032.mp4: 384x640 2 incident-autos, 9.5ms\n",
            "video 1/1 (frame 137/394) /content/test/auto_20241003_090032.mp4: 384x640 2 incident-autos, 9.5ms\n",
            "video 1/1 (frame 138/394) /content/test/auto_20241003_090032.mp4: 384x640 2 incident-autos, 12.7ms\n",
            "video 1/1 (frame 139/394) /content/test/auto_20241003_090032.mp4: 384x640 2 incident-autos, 9.5ms\n",
            "video 1/1 (frame 140/394) /content/test/auto_20241003_090032.mp4: 384x640 2 incident-autos, 9.9ms\n",
            "video 1/1 (frame 141/394) /content/test/auto_20241003_090032.mp4: 384x640 2 incident-autos, 9.8ms\n",
            "video 1/1 (frame 142/394) /content/test/auto_20241003_090032.mp4: 384x640 2 incident-autos, 12.9ms\n",
            "video 1/1 (frame 143/394) /content/test/auto_20241003_090032.mp4: 384x640 2 incident-autos, 12.2ms\n",
            "video 1/1 (frame 144/394) /content/test/auto_20241003_090032.mp4: 384x640 3 incident-autos, 10.0ms\n",
            "video 1/1 (frame 145/394) /content/test/auto_20241003_090032.mp4: 384x640 2 incident-autos, 10.1ms\n",
            "video 1/1 (frame 146/394) /content/test/auto_20241003_090032.mp4: 384x640 3 incident-autos, 9.7ms\n",
            "video 1/1 (frame 147/394) /content/test/auto_20241003_090032.mp4: 384x640 3 incident-autos, 9.3ms\n",
            "video 1/1 (frame 148/394) /content/test/auto_20241003_090032.mp4: 384x640 3 incident-autos, 11.7ms\n",
            "video 1/1 (frame 149/394) /content/test/auto_20241003_090032.mp4: 384x640 3 incident-autos, 9.3ms\n",
            "video 1/1 (frame 150/394) /content/test/auto_20241003_090032.mp4: 384x640 3 incident-autos, 11.0ms\n",
            "video 1/1 (frame 151/394) /content/test/auto_20241003_090032.mp4: 384x640 4 incident-autos, 9.7ms\n",
            "video 1/1 (frame 152/394) /content/test/auto_20241003_090032.mp4: 384x640 4 incident-autos, 9.5ms\n",
            "video 1/1 (frame 153/394) /content/test/auto_20241003_090032.mp4: 384x640 3 incident-autos, 9.4ms\n",
            "video 1/1 (frame 154/394) /content/test/auto_20241003_090032.mp4: 384x640 3 incident-autos, 9.0ms\n",
            "video 1/1 (frame 155/394) /content/test/auto_20241003_090032.mp4: 384x640 3 incident-autos, 9.3ms\n",
            "video 1/1 (frame 156/394) /content/test/auto_20241003_090032.mp4: 384x640 2 incident-autos, 11.0ms\n",
            "video 1/1 (frame 157/394) /content/test/auto_20241003_090032.mp4: 384x640 2 incident-autos, 9.7ms\n",
            "video 1/1 (frame 158/394) /content/test/auto_20241003_090032.mp4: 384x640 3 incident-autos, 9.5ms\n",
            "video 1/1 (frame 159/394) /content/test/auto_20241003_090032.mp4: 384x640 3 incident-autos, 10.8ms\n",
            "video 1/1 (frame 160/394) /content/test/auto_20241003_090032.mp4: 384x640 3 incident-autos, 9.0ms\n",
            "video 1/1 (frame 161/394) /content/test/auto_20241003_090032.mp4: 384x640 4 incident-autos, 9.7ms\n",
            "video 1/1 (frame 162/394) /content/test/auto_20241003_090032.mp4: 384x640 3 incident-autos, 9.4ms\n",
            "video 1/1 (frame 163/394) /content/test/auto_20241003_090032.mp4: 384x640 2 incident-autos, 9.8ms\n",
            "video 1/1 (frame 164/394) /content/test/auto_20241003_090032.mp4: 384x640 3 incident-autos, 13.6ms\n",
            "video 1/1 (frame 165/394) /content/test/auto_20241003_090032.mp4: 384x640 3 incident-autos, 10.5ms\n",
            "video 1/1 (frame 166/394) /content/test/auto_20241003_090032.mp4: 384x640 4 incident-autos, 9.4ms\n",
            "video 1/1 (frame 167/394) /content/test/auto_20241003_090032.mp4: 384x640 4 incident-autos, 9.1ms\n",
            "video 1/1 (frame 168/394) /content/test/auto_20241003_090032.mp4: 384x640 3 incident-autos, 10.4ms\n",
            "video 1/1 (frame 169/394) /content/test/auto_20241003_090032.mp4: 384x640 3 incident-autos, 9.7ms\n",
            "video 1/1 (frame 170/394) /content/test/auto_20241003_090032.mp4: 384x640 3 incident-autos, 9.9ms\n",
            "video 1/1 (frame 171/394) /content/test/auto_20241003_090032.mp4: 384x640 2 incident-autos, 9.5ms\n",
            "video 1/1 (frame 172/394) /content/test/auto_20241003_090032.mp4: 384x640 3 incident-autos, 9.5ms\n",
            "video 1/1 (frame 173/394) /content/test/auto_20241003_090032.mp4: 384x640 3 incident-autos, 9.7ms\n",
            "video 1/1 (frame 174/394) /content/test/auto_20241003_090032.mp4: 384x640 3 incident-autos, 9.4ms\n",
            "video 1/1 (frame 175/394) /content/test/auto_20241003_090032.mp4: 384x640 4 incident-autos, 13.5ms\n",
            "video 1/1 (frame 176/394) /content/test/auto_20241003_090032.mp4: 384x640 2 incident-autos, 9.7ms\n",
            "video 1/1 (frame 177/394) /content/test/auto_20241003_090032.mp4: 384x640 3 incident-autos, 21.4ms\n",
            "video 1/1 (frame 178/394) /content/test/auto_20241003_090032.mp4: 384x640 3 incident-autos, 9.8ms\n",
            "video 1/1 (frame 179/394) /content/test/auto_20241003_090032.mp4: 384x640 2 incident-autos, 9.4ms\n",
            "video 1/1 (frame 180/394) /content/test/auto_20241003_090032.mp4: 384x640 1 incident-auto, 9.2ms\n",
            "video 1/1 (frame 181/394) /content/test/auto_20241003_090032.mp4: 384x640 3 incident-autos, 9.7ms\n",
            "video 1/1 (frame 182/394) /content/test/auto_20241003_090032.mp4: 384x640 1 incident-auto, 9.6ms\n",
            "video 1/1 (frame 183/394) /content/test/auto_20241003_090032.mp4: 384x640 2 incident-autos, 9.7ms\n",
            "video 1/1 (frame 184/394) /content/test/auto_20241003_090032.mp4: 384x640 1 incident-auto, 9.4ms\n",
            "video 1/1 (frame 185/394) /content/test/auto_20241003_090032.mp4: 384x640 1 incident-auto, 9.6ms\n",
            "video 1/1 (frame 186/394) /content/test/auto_20241003_090032.mp4: 384x640 1 incident-auto, 9.3ms\n",
            "video 1/1 (frame 187/394) /content/test/auto_20241003_090032.mp4: 384x640 1 incident-auto, 9.4ms\n",
            "video 1/1 (frame 188/394) /content/test/auto_20241003_090032.mp4: 384x640 2 incident-autos, 9.7ms\n",
            "video 1/1 (frame 189/394) /content/test/auto_20241003_090032.mp4: 384x640 1 incident-auto, 9.2ms\n",
            "video 1/1 (frame 190/394) /content/test/auto_20241003_090032.mp4: 384x640 1 incident-auto, 9.6ms\n",
            "video 1/1 (frame 191/394) /content/test/auto_20241003_090032.mp4: 384x640 1 incident-auto, 9.5ms\n",
            "video 1/1 (frame 192/394) /content/test/auto_20241003_090032.mp4: 384x640 1 incident-auto, 9.4ms\n",
            "video 1/1 (frame 193/394) /content/test/auto_20241003_090032.mp4: 384x640 1 incident-auto, 9.3ms\n",
            "video 1/1 (frame 194/394) /content/test/auto_20241003_090032.mp4: 384x640 (no detections), 11.5ms\n",
            "video 1/1 (frame 195/394) /content/test/auto_20241003_090032.mp4: 384x640 1 incident-auto, 9.3ms\n",
            "video 1/1 (frame 196/394) /content/test/auto_20241003_090032.mp4: 384x640 (no detections), 11.2ms\n",
            "video 1/1 (frame 197/394) /content/test/auto_20241003_090032.mp4: 384x640 1 incident-auto, 9.8ms\n",
            "video 1/1 (frame 198/394) /content/test/auto_20241003_090032.mp4: 384x640 1 incident-auto, 9.9ms\n",
            "video 1/1 (frame 199/394) /content/test/auto_20241003_090032.mp4: 384x640 2 incident-autos, 9.2ms\n",
            "video 1/1 (frame 200/394) /content/test/auto_20241003_090032.mp4: 384x640 1 incident-auto, 11.1ms\n",
            "video 1/1 (frame 201/394) /content/test/auto_20241003_090032.mp4: 384x640 2 incident-autos, 10.6ms\n",
            "video 1/1 (frame 202/394) /content/test/auto_20241003_090032.mp4: 384x640 (no detections), 11.1ms\n",
            "video 1/1 (frame 203/394) /content/test/auto_20241003_090032.mp4: 384x640 2 incident-autos, 11.5ms\n",
            "video 1/1 (frame 204/394) /content/test/auto_20241003_090032.mp4: 384x640 2 incident-autos, 7.2ms\n",
            "video 1/1 (frame 205/394) /content/test/auto_20241003_090032.mp4: 384x640 2 incident-autos, 9.7ms\n",
            "video 1/1 (frame 206/394) /content/test/auto_20241003_090032.mp4: 384x640 2 incident-autos, 10.3ms\n",
            "video 1/1 (frame 207/394) /content/test/auto_20241003_090032.mp4: 384x640 1 incident-auto, 9.4ms\n",
            "video 1/1 (frame 208/394) /content/test/auto_20241003_090032.mp4: 384x640 1 incident-auto, 9.7ms\n",
            "video 1/1 (frame 209/394) /content/test/auto_20241003_090032.mp4: 384x640 2 incident-autos, 12.5ms\n",
            "video 1/1 (frame 210/394) /content/test/auto_20241003_090032.mp4: 384x640 1 incident-auto, 10.5ms\n",
            "video 1/1 (frame 211/394) /content/test/auto_20241003_090032.mp4: 384x640 1 incident-auto, 9.9ms\n",
            "video 1/1 (frame 212/394) /content/test/auto_20241003_090032.mp4: 384x640 1 incident-auto, 13.6ms\n",
            "video 1/1 (frame 213/394) /content/test/auto_20241003_090032.mp4: 384x640 1 incident-auto, 12.4ms\n",
            "video 1/1 (frame 214/394) /content/test/auto_20241003_090032.mp4: 384x640 1 incident-auto, 13.0ms\n",
            "video 1/1 (frame 215/394) /content/test/auto_20241003_090032.mp4: 384x640 1 incident-auto, 9.3ms\n",
            "video 1/1 (frame 216/394) /content/test/auto_20241003_090032.mp4: 384x640 1 incident-auto, 10.6ms\n",
            "video 1/1 (frame 217/394) /content/test/auto_20241003_090032.mp4: 384x640 1 incident-auto, 9.1ms\n",
            "video 1/1 (frame 218/394) /content/test/auto_20241003_090032.mp4: 384x640 1 incident-auto, 11.4ms\n",
            "video 1/1 (frame 219/394) /content/test/auto_20241003_090032.mp4: 384x640 1 incident-auto, 9.3ms\n",
            "video 1/1 (frame 220/394) /content/test/auto_20241003_090032.mp4: 384x640 1 incident-auto, 9.0ms\n",
            "video 1/1 (frame 221/394) /content/test/auto_20241003_090032.mp4: 384x640 1 incident-auto, 9.3ms\n",
            "video 1/1 (frame 222/394) /content/test/auto_20241003_090032.mp4: 384x640 2 incident-autos, 9.9ms\n",
            "video 1/1 (frame 223/394) /content/test/auto_20241003_090032.mp4: 384x640 1 incident-auto, 9.6ms\n",
            "video 1/1 (frame 224/394) /content/test/auto_20241003_090032.mp4: 384x640 2 incident-autos, 8.4ms\n",
            "video 1/1 (frame 225/394) /content/test/auto_20241003_090032.mp4: 384x640 2 incident-autos, 9.8ms\n",
            "video 1/1 (frame 226/394) /content/test/auto_20241003_090032.mp4: 384x640 2 incident-autos, 9.4ms\n",
            "video 1/1 (frame 227/394) /content/test/auto_20241003_090032.mp4: 384x640 3 incident-autos, 9.4ms\n",
            "video 1/1 (frame 228/394) /content/test/auto_20241003_090032.mp4: 384x640 1 incident-auto, 9.1ms\n",
            "video 1/1 (frame 229/394) /content/test/auto_20241003_090032.mp4: 384x640 2 incident-autos, 9.8ms\n",
            "video 1/1 (frame 230/394) /content/test/auto_20241003_090032.mp4: 384x640 2 incident-autos, 9.2ms\n",
            "video 1/1 (frame 231/394) /content/test/auto_20241003_090032.mp4: 384x640 3 incident-autos, 14.2ms\n",
            "video 1/1 (frame 232/394) /content/test/auto_20241003_090032.mp4: 384x640 2 incident-autos, 11.1ms\n",
            "video 1/1 (frame 233/394) /content/test/auto_20241003_090032.mp4: 384x640 2 incident-autos, 9.3ms\n",
            "video 1/1 (frame 234/394) /content/test/auto_20241003_090032.mp4: 384x640 2 incident-autos, 11.8ms\n",
            "video 1/1 (frame 235/394) /content/test/auto_20241003_090032.mp4: 384x640 1 incident-auto, 9.8ms\n",
            "video 1/1 (frame 236/394) /content/test/auto_20241003_090032.mp4: 384x640 2 incident-autos, 9.8ms\n",
            "video 1/1 (frame 237/394) /content/test/auto_20241003_090032.mp4: 384x640 2 incident-autos, 9.2ms\n",
            "video 1/1 (frame 238/394) /content/test/auto_20241003_090032.mp4: 384x640 1 incident-auto, 10.2ms\n",
            "video 1/1 (frame 239/394) /content/test/auto_20241003_090032.mp4: 384x640 2 incident-autos, 10.7ms\n",
            "video 1/1 (frame 240/394) /content/test/auto_20241003_090032.mp4: 384x640 2 incident-autos, 11.1ms\n",
            "video 1/1 (frame 241/394) /content/test/auto_20241003_090032.mp4: 384x640 1 incident-auto, 9.5ms\n",
            "video 1/1 (frame 242/394) /content/test/auto_20241003_090032.mp4: 384x640 2 incident-autos, 9.5ms\n",
            "video 1/1 (frame 243/394) /content/test/auto_20241003_090032.mp4: 384x640 1 incident-auto, 9.2ms\n",
            "video 1/1 (frame 244/394) /content/test/auto_20241003_090032.mp4: 384x640 1 incident-auto, 9.2ms\n",
            "video 1/1 (frame 245/394) /content/test/auto_20241003_090032.mp4: 384x640 1 incident-auto, 9.8ms\n",
            "video 1/1 (frame 246/394) /content/test/auto_20241003_090032.mp4: 384x640 2 incident-autos, 9.5ms\n",
            "video 1/1 (frame 247/394) /content/test/auto_20241003_090032.mp4: 384x640 2 incident-autos, 10.5ms\n",
            "video 1/1 (frame 248/394) /content/test/auto_20241003_090032.mp4: 384x640 2 incident-autos, 9.4ms\n",
            "video 1/1 (frame 249/394) /content/test/auto_20241003_090032.mp4: 384x640 2 incident-autos, 15.4ms\n",
            "video 1/1 (frame 250/394) /content/test/auto_20241003_090032.mp4: 384x640 2 incident-autos, 12.1ms\n",
            "video 1/1 (frame 251/394) /content/test/auto_20241003_090032.mp4: 384x640 2 incident-autos, 9.1ms\n",
            "video 1/1 (frame 252/394) /content/test/auto_20241003_090032.mp4: 384x640 3 incident-autos, 9.8ms\n",
            "video 1/1 (frame 253/394) /content/test/auto_20241003_090032.mp4: 384x640 3 incident-autos, 10.0ms\n",
            "video 1/1 (frame 254/394) /content/test/auto_20241003_090032.mp4: 384x640 3 incident-autos, 9.6ms\n",
            "video 1/1 (frame 255/394) /content/test/auto_20241003_090032.mp4: 384x640 3 incident-autos, 9.6ms\n",
            "video 1/1 (frame 256/394) /content/test/auto_20241003_090032.mp4: 384x640 3 incident-autos, 9.8ms\n",
            "video 1/1 (frame 257/394) /content/test/auto_20241003_090032.mp4: 384x640 2 incident-autos, 10.3ms\n",
            "video 1/1 (frame 258/394) /content/test/auto_20241003_090032.mp4: 384x640 4 incident-autos, 9.4ms\n",
            "video 1/1 (frame 259/394) /content/test/auto_20241003_090032.mp4: 384x640 3 incident-autos, 9.7ms\n",
            "video 1/1 (frame 260/394) /content/test/auto_20241003_090032.mp4: 384x640 3 incident-autos, 10.7ms\n",
            "video 1/1 (frame 261/394) /content/test/auto_20241003_090032.mp4: 384x640 5 incident-autos, 9.5ms\n",
            "video 1/1 (frame 262/394) /content/test/auto_20241003_090032.mp4: 384x640 4 incident-autos, 9.3ms\n",
            "video 1/1 (frame 263/394) /content/test/auto_20241003_090032.mp4: 384x640 5 incident-autos, 9.5ms\n",
            "video 1/1 (frame 264/394) /content/test/auto_20241003_090032.mp4: 384x640 3 incident-autos, 9.7ms\n",
            "video 1/1 (frame 265/394) /content/test/auto_20241003_090032.mp4: 384x640 3 incident-autos, 9.7ms\n",
            "video 1/1 (frame 266/394) /content/test/auto_20241003_090032.mp4: 384x640 4 incident-autos, 16.7ms\n",
            "video 1/1 (frame 267/394) /content/test/auto_20241003_090032.mp4: 384x640 3 incident-autos, 9.8ms\n",
            "video 1/1 (frame 268/394) /content/test/auto_20241003_090032.mp4: 384x640 3 incident-autos, 9.5ms\n",
            "video 1/1 (frame 269/394) /content/test/auto_20241003_090032.mp4: 384x640 3 incident-autos, 14.8ms\n",
            "video 1/1 (frame 270/394) /content/test/auto_20241003_090032.mp4: 384x640 4 incident-autos, 9.0ms\n",
            "video 1/1 (frame 271/394) /content/test/auto_20241003_090032.mp4: 384x640 3 incident-autos, 12.5ms\n",
            "video 1/1 (frame 272/394) /content/test/auto_20241003_090032.mp4: 384x640 3 incident-autos, 9.9ms\n",
            "video 1/1 (frame 273/394) /content/test/auto_20241003_090032.mp4: 384x640 3 incident-autos, 10.3ms\n",
            "video 1/1 (frame 274/394) /content/test/auto_20241003_090032.mp4: 384x640 3 incident-autos, 9.9ms\n",
            "video 1/1 (frame 275/394) /content/test/auto_20241003_090032.mp4: 384x640 4 incident-autos, 9.9ms\n",
            "video 1/1 (frame 276/394) /content/test/auto_20241003_090032.mp4: 384x640 3 incident-autos, 9.5ms\n",
            "video 1/1 (frame 277/394) /content/test/auto_20241003_090032.mp4: 384x640 3 incident-autos, 9.4ms\n",
            "video 1/1 (frame 278/394) /content/test/auto_20241003_090032.mp4: 384x640 3 incident-autos, 9.4ms\n",
            "video 1/1 (frame 279/394) /content/test/auto_20241003_090032.mp4: 384x640 3 incident-autos, 10.5ms\n",
            "video 1/1 (frame 280/394) /content/test/auto_20241003_090032.mp4: 384x640 3 incident-autos, 9.5ms\n",
            "video 1/1 (frame 281/394) /content/test/auto_20241003_090032.mp4: 384x640 3 incident-autos, 8.8ms\n",
            "video 1/1 (frame 282/394) /content/test/auto_20241003_090032.mp4: 384x640 3 incident-autos, 9.4ms\n",
            "video 1/1 (frame 283/394) /content/test/auto_20241003_090032.mp4: 384x640 4 incident-autos, 13.3ms\n",
            "video 1/1 (frame 284/394) /content/test/auto_20241003_090032.mp4: 384x640 3 incident-autos, 9.7ms\n",
            "video 1/1 (frame 285/394) /content/test/auto_20241003_090032.mp4: 384x640 3 incident-autos, 9.4ms\n",
            "video 1/1 (frame 286/394) /content/test/auto_20241003_090032.mp4: 384x640 4 incident-autos, 16.5ms\n",
            "video 1/1 (frame 287/394) /content/test/auto_20241003_090032.mp4: 384x640 3 incident-autos, 10.0ms\n",
            "video 1/1 (frame 288/394) /content/test/auto_20241003_090032.mp4: 384x640 3 incident-autos, 9.6ms\n",
            "video 1/1 (frame 289/394) /content/test/auto_20241003_090032.mp4: 384x640 4 incident-autos, 9.7ms\n",
            "video 1/1 (frame 290/394) /content/test/auto_20241003_090032.mp4: 384x640 3 incident-autos, 9.8ms\n",
            "video 1/1 (frame 291/394) /content/test/auto_20241003_090032.mp4: 384x640 3 incident-autos, 9.4ms\n",
            "video 1/1 (frame 292/394) /content/test/auto_20241003_090032.mp4: 384x640 3 incident-autos, 9.8ms\n",
            "video 1/1 (frame 293/394) /content/test/auto_20241003_090032.mp4: 384x640 3 incident-autos, 9.9ms\n",
            "video 1/1 (frame 294/394) /content/test/auto_20241003_090032.mp4: 384x640 2 incident-autos, 9.6ms\n",
            "video 1/1 (frame 295/394) /content/test/auto_20241003_090032.mp4: 384x640 2 incident-autos, 9.8ms\n",
            "video 1/1 (frame 296/394) /content/test/auto_20241003_090032.mp4: 384x640 3 incident-autos, 9.4ms\n",
            "video 1/1 (frame 297/394) /content/test/auto_20241003_090032.mp4: 384x640 2 incident-autos, 9.6ms\n",
            "video 1/1 (frame 298/394) /content/test/auto_20241003_090032.mp4: 384x640 2 incident-autos, 9.5ms\n",
            "video 1/1 (frame 299/394) /content/test/auto_20241003_090032.mp4: 384x640 3 incident-autos, 15.0ms\n",
            "video 1/1 (frame 300/394) /content/test/auto_20241003_090032.mp4: 384x640 3 incident-autos, 9.1ms\n",
            "video 1/1 (frame 301/394) /content/test/auto_20241003_090032.mp4: 384x640 2 incident-autos, 9.6ms\n",
            "video 1/1 (frame 302/394) /content/test/auto_20241003_090032.mp4: 384x640 2 incident-autos, 10.6ms\n",
            "video 1/1 (frame 303/394) /content/test/auto_20241003_090032.mp4: 384x640 1 incident-auto, 18.6ms\n",
            "video 1/1 (frame 304/394) /content/test/auto_20241003_090032.mp4: 384x640 1 incident-auto, 14.2ms\n",
            "video 1/1 (frame 305/394) /content/test/auto_20241003_090032.mp4: 384x640 3 incident-autos, 15.1ms\n",
            "video 1/1 (frame 306/394) /content/test/auto_20241003_090032.mp4: 384x640 3 incident-autos, 10.8ms\n",
            "video 1/1 (frame 307/394) /content/test/auto_20241003_090032.mp4: 384x640 4 incident-autos, 12.1ms\n",
            "video 1/1 (frame 308/394) /content/test/auto_20241003_090032.mp4: 384x640 2 incident-autos, 9.2ms\n",
            "video 1/1 (frame 309/394) /content/test/auto_20241003_090032.mp4: 384x640 3 incident-autos, 8.8ms\n",
            "video 1/1 (frame 310/394) /content/test/auto_20241003_090032.mp4: 384x640 4 incident-autos, 15.4ms\n",
            "video 1/1 (frame 311/394) /content/test/auto_20241003_090032.mp4: 384x640 4 incident-autos, 10.9ms\n",
            "video 1/1 (frame 312/394) /content/test/auto_20241003_090032.mp4: 384x640 3 incident-autos, 20.3ms\n",
            "video 1/1 (frame 313/394) /content/test/auto_20241003_090032.mp4: 384x640 4 incident-autos, 16.4ms\n",
            "video 1/1 (frame 314/394) /content/test/auto_20241003_090032.mp4: 384x640 4 incident-autos, 14.4ms\n",
            "video 1/1 (frame 315/394) /content/test/auto_20241003_090032.mp4: 384x640 4 incident-autos, 8.9ms\n",
            "video 1/1 (frame 316/394) /content/test/auto_20241003_090032.mp4: 384x640 3 incident-autos, 20.2ms\n",
            "video 1/1 (frame 317/394) /content/test/auto_20241003_090032.mp4: 384x640 4 incident-autos, 9.5ms\n",
            "video 1/1 (frame 318/394) /content/test/auto_20241003_090032.mp4: 384x640 4 incident-autos, 19.4ms\n",
            "video 1/1 (frame 319/394) /content/test/auto_20241003_090032.mp4: 384x640 3 incident-autos, 16.5ms\n",
            "video 1/1 (frame 320/394) /content/test/auto_20241003_090032.mp4: 384x640 3 incident-autos, 14.7ms\n",
            "video 1/1 (frame 321/394) /content/test/auto_20241003_090032.mp4: 384x640 4 incident-autos, 14.1ms\n",
            "video 1/1 (frame 322/394) /content/test/auto_20241003_090032.mp4: 384x640 3 incident-autos, 23.8ms\n",
            "video 1/1 (frame 323/394) /content/test/auto_20241003_090032.mp4: 384x640 2 incident-autos, 16.3ms\n",
            "video 1/1 (frame 324/394) /content/test/auto_20241003_090032.mp4: 384x640 3 incident-autos, 16.2ms\n",
            "video 1/1 (frame 325/394) /content/test/auto_20241003_090032.mp4: 384x640 5 incident-autos, 21.4ms\n",
            "video 1/1 (frame 326/394) /content/test/auto_20241003_090032.mp4: 384x640 4 incident-autos, 11.1ms\n",
            "video 1/1 (frame 327/394) /content/test/auto_20241003_090032.mp4: 384x640 3 incident-autos, 17.1ms\n",
            "video 1/1 (frame 328/394) /content/test/auto_20241003_090032.mp4: 384x640 4 incident-autos, 17.0ms\n",
            "video 1/1 (frame 329/394) /content/test/auto_20241003_090032.mp4: 384x640 3 incident-autos, 17.5ms\n",
            "video 1/1 (frame 330/394) /content/test/auto_20241003_090032.mp4: 384x640 3 incident-autos, 8.5ms\n",
            "video 1/1 (frame 331/394) /content/test/auto_20241003_090032.mp4: 384x640 3 incident-autos, 11.9ms\n",
            "video 1/1 (frame 332/394) /content/test/auto_20241003_090032.mp4: 384x640 3 incident-autos, 23.5ms\n",
            "video 1/1 (frame 333/394) /content/test/auto_20241003_090032.mp4: 384x640 3 incident-autos, 17.1ms\n",
            "video 1/1 (frame 334/394) /content/test/auto_20241003_090032.mp4: 384x640 2 incident-autos, 11.8ms\n",
            "video 1/1 (frame 335/394) /content/test/auto_20241003_090032.mp4: 384x640 3 incident-autos, 20.6ms\n",
            "video 1/1 (frame 336/394) /content/test/auto_20241003_090032.mp4: 384x640 3 incident-autos, 20.0ms\n",
            "video 1/1 (frame 337/394) /content/test/auto_20241003_090032.mp4: 384x640 3 incident-autos, 16.9ms\n",
            "video 1/1 (frame 338/394) /content/test/auto_20241003_090032.mp4: 384x640 2 incident-autos, 16.5ms\n",
            "video 1/1 (frame 339/394) /content/test/auto_20241003_090032.mp4: 384x640 1 incident-auto, 9.7ms\n",
            "video 1/1 (frame 340/394) /content/test/auto_20241003_090032.mp4: 384x640 1 incident-auto, 20.0ms\n",
            "video 1/1 (frame 341/394) /content/test/auto_20241003_090032.mp4: 384x640 3 incident-autos, 27.7ms\n",
            "video 1/1 (frame 342/394) /content/test/auto_20241003_090032.mp4: 384x640 2 incident-autos, 10.4ms\n",
            "video 1/1 (frame 343/394) /content/test/auto_20241003_090032.mp4: 384x640 3 incident-autos, 21.7ms\n",
            "video 1/1 (frame 344/394) /content/test/auto_20241003_090032.mp4: 384x640 1 incident-auto, 21.7ms\n",
            "video 1/1 (frame 345/394) /content/test/auto_20241003_090032.mp4: 384x640 2 incident-autos, 18.9ms\n",
            "video 1/1 (frame 346/394) /content/test/auto_20241003_090032.mp4: 384x640 2 incident-autos, 24.3ms\n",
            "video 1/1 (frame 347/394) /content/test/auto_20241003_090032.mp4: 384x640 2 incident-autos, 22.6ms\n",
            "video 1/1 (frame 348/394) /content/test/auto_20241003_090032.mp4: 384x640 2 incident-autos, 24.3ms\n",
            "video 1/1 (frame 349/394) /content/test/auto_20241003_090032.mp4: 384x640 3 incident-autos, 17.0ms\n",
            "video 1/1 (frame 350/394) /content/test/auto_20241003_090032.mp4: 384x640 4 incident-autos, 13.7ms\n",
            "video 1/1 (frame 351/394) /content/test/auto_20241003_090032.mp4: 384x640 3 incident-autos, 21.2ms\n",
            "video 1/1 (frame 352/394) /content/test/auto_20241003_090032.mp4: 384x640 1 incident-auto, 18.8ms\n",
            "video 1/1 (frame 353/394) /content/test/auto_20241003_090032.mp4: 384x640 2 incident-autos, 15.6ms\n",
            "video 1/1 (frame 354/394) /content/test/auto_20241003_090032.mp4: 384x640 1 incident-auto, 26.9ms\n",
            "video 1/1 (frame 355/394) /content/test/auto_20241003_090032.mp4: 384x640 2 incident-autos, 13.0ms\n",
            "video 1/1 (frame 356/394) /content/test/auto_20241003_090032.mp4: 384x640 1 incident-auto, 22.3ms\n",
            "video 1/1 (frame 357/394) /content/test/auto_20241003_090032.mp4: 384x640 4 incident-autos, 27.4ms\n",
            "video 1/1 (frame 358/394) /content/test/auto_20241003_090032.mp4: 384x640 3 incident-autos, 15.4ms\n",
            "video 1/1 (frame 359/394) /content/test/auto_20241003_090032.mp4: 384x640 1 incident-auto, 24.9ms\n",
            "video 1/1 (frame 360/394) /content/test/auto_20241003_090032.mp4: 384x640 2 incident-autos, 17.2ms\n",
            "video 1/1 (frame 361/394) /content/test/auto_20241003_090032.mp4: 384x640 1 incident-auto, 23.2ms\n",
            "video 1/1 (frame 362/394) /content/test/auto_20241003_090032.mp4: 384x640 (no detections), 17.0ms\n",
            "video 1/1 (frame 363/394) /content/test/auto_20241003_090032.mp4: 384x640 1 incident-auto, 25.1ms\n",
            "video 1/1 (frame 364/394) /content/test/auto_20241003_090032.mp4: 384x640 (no detections), 24.6ms\n",
            "video 1/1 (frame 365/394) /content/test/auto_20241003_090032.mp4: 384x640 1 incident-auto, 18.6ms\n",
            "video 1/1 (frame 366/394) /content/test/auto_20241003_090032.mp4: 384x640 1 incident-auto, 20.7ms\n",
            "video 1/1 (frame 367/394) /content/test/auto_20241003_090032.mp4: 384x640 1 incident-auto, 17.0ms\n",
            "video 1/1 (frame 368/394) /content/test/auto_20241003_090032.mp4: 384x640 1 incident-auto, 14.9ms\n",
            "video 1/1 (frame 369/394) /content/test/auto_20241003_090032.mp4: 384x640 2 incident-autos, 21.1ms\n",
            "video 1/1 (frame 370/394) /content/test/auto_20241003_090032.mp4: 384x640 1 incident-auto, 10.1ms\n",
            "video 1/1 (frame 371/394) /content/test/auto_20241003_090032.mp4: 384x640 1 incident-auto, 25.8ms\n",
            "video 1/1 (frame 372/394) /content/test/auto_20241003_090032.mp4: 384x640 1 incident-auto, 11.0ms\n",
            "video 1/1 (frame 373/394) /content/test/auto_20241003_090032.mp4: 384x640 2 incident-autos, 9.2ms\n",
            "video 1/1 (frame 374/394) /content/test/auto_20241003_090032.mp4: 384x640 2 incident-autos, 13.5ms\n",
            "video 1/1 (frame 375/394) /content/test/auto_20241003_090032.mp4: 384x640 2 incident-autos, 13.7ms\n",
            "video 1/1 (frame 376/394) /content/test/auto_20241003_090032.mp4: 384x640 2 incident-autos, 12.3ms\n",
            "video 1/1 (frame 377/394) /content/test/auto_20241003_090032.mp4: 384x640 2 incident-autos, 13.1ms\n",
            "video 1/1 (frame 378/394) /content/test/auto_20241003_090032.mp4: 384x640 2 incident-autos, 17.6ms\n",
            "video 1/1 (frame 379/394) /content/test/auto_20241003_090032.mp4: 384x640 2 incident-autos, 20.3ms\n",
            "video 1/1 (frame 380/394) /content/test/auto_20241003_090032.mp4: 384x640 3 incident-autos, 15.1ms\n",
            "video 1/1 (frame 381/394) /content/test/auto_20241003_090032.mp4: 384x640 1 incident-auto, 11.4ms\n",
            "video 1/1 (frame 382/394) /content/test/auto_20241003_090032.mp4: 384x640 1 incident-auto, 17.9ms\n",
            "video 1/1 (frame 383/394) /content/test/auto_20241003_090032.mp4: 384x640 2 incident-autos, 10.3ms\n",
            "video 1/1 (frame 384/394) /content/test/auto_20241003_090032.mp4: 384x640 1 incident-auto, 17.2ms\n",
            "video 1/1 (frame 385/394) /content/test/auto_20241003_090032.mp4: 384x640 1 incident-auto, 15.4ms\n",
            "video 1/1 (frame 386/394) /content/test/auto_20241003_090032.mp4: 384x640 1 incident-auto, 16.4ms\n",
            "video 1/1 (frame 387/394) /content/test/auto_20241003_090032.mp4: 384x640 1 incident-auto, 19.5ms\n",
            "video 1/1 (frame 388/394) /content/test/auto_20241003_090032.mp4: 384x640 1 incident-auto, 20.1ms\n",
            "video 1/1 (frame 389/394) /content/test/auto_20241003_090032.mp4: 384x640 2 incident-autos, 16.9ms\n",
            "video 1/1 (frame 390/394) /content/test/auto_20241003_090032.mp4: 384x640 2 incident-autos, 9.6ms\n",
            "video 1/1 (frame 391/394) /content/test/auto_20241003_090032.mp4: 384x640 2 incident-autos, 11.4ms\n",
            "video 1/1 (frame 392/394) /content/test/auto_20241003_090032.mp4: 384x640 1 incident-auto, 19.0ms\n",
            "video 1/1 (frame 393/394) /content/test/auto_20241003_090032.mp4: 384x640 1 incident-auto, 15.4ms\n",
            "video 1/1 (frame 394/394) /content/test/auto_20241003_090032.mp4: 384x640 3 incident-autos, 10.3ms\n",
            "Speed: 4.8ms preprocess, 13.3ms inference, 2.0ms postprocess per image at shape (1, 3, 384, 640)\n",
            "Results saved to \u001b[1mruns/detect/auto_20241003_090032_result\u001b[0m\n"
          ]
        }
      ],
      "source": [
        "import os\n",
        "from ultralytics import YOLO\n",
        "from IPython.display import Video\n",
        "\n",
        "# Load the trained model\n",
        "model = YOLO('runs/detect/train2/weights/best.pt')\n",
        "\n",
        "video_path = \"/videos/auto_20241003_090032.mp4\"\n",
        "\n",
        "# Extract directory and filename of the original video\n",
        "video_dir, video_filename = os.path.split(video_path)\n",
        "video_name, video_ext = os.path.splitext(video_filename)\n",
        "\n",
        "# Construct the output video path with the suffix, in the same directory\n",
        "output_video_path = os.path.join(video_dir, f\"{video_name}_result{video_ext}\")\n",
        "\n",
        "# Run inference and save the results with the specified output path\n",
        "results = model(source=video_path, conf=0.4, save=True, save_dir=video_dir, name=f\"{video_name}_result\")"
      ]
    }
  ],
  "metadata": {
    "accelerator": "GPU",
    "colab": {
      "gpuType": "T4",
      "provenance": []
    },
    "kernelspec": {
      "display_name": "Python 3",
      "name": "python3"
    },
    "language_info": {
      "name": "python"
    }
  },
  "nbformat": 4,
  "nbformat_minor": 0
}
